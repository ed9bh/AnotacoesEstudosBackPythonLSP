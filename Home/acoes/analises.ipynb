{
 "nbformat": 4,
 "nbformat_minor": 2,
 "metadata": {
  "language_info": {
   "name": "python",
   "codemirror_mode": {
    "name": "ipython",
    "version": 3
   },
   "version": "3.7.4"
  },
  "orig_nbformat": 2,
  "file_extension": ".py",
  "mimetype": "text/x-python",
  "name": "python",
  "npconvert_exporter": "python",
  "pygments_lexer": "ipython3",
  "version": 3
 },
 "cells": [
  {
   "cell_type": "code",
   "execution_count": 16,
   "metadata": {},
   "outputs": [],
   "source": [
    "def init():\n",
    "    from os import chdir, mkdir\n",
    "    from os.path import isdir, isfile\n",
    "    from matplotlib import pyplot as plt\n",
    "    import pandas as pd\n",
    "    from time import sleep\n",
    "\n",
    "    try:\n",
    "        chdir(r'A:\\_Projetos\\AnotacoesEstudosBackPythonLSP\\Home\\acoes')\n",
    "    except:\n",
    "        chdir(r'C:\\Users\\GOMEE11\\Documents\\_Referencias\\Git\\AnotacoesEstudosBackPythonLSP\\Home\\acoes')\n",
    "    \n",
    "    for d in ['.\\\\Graph', '.\\\\Tables']:\n",
    "        if isdir(d):\n",
    "            pass\n",
    "        else:\n",
    "            mkdir(d)\n",
    "            pass\n",
    "    \n",
    "    sleep(1)\n",
    "    \n",
    "    from make_data import Down_Data, Analisys, Graph"
   ]
  },
  {
   "cell_type": "code",
   "execution_count": 17,
   "metadata": {},
   "outputs": [],
   "source": [
    "init()"
   ]
  },
  {
   "cell_type": "code",
   "execution_count": 18,
   "metadata": {},
   "outputs": [],
   "source": [
    "ticker = 'CRIV4'\n",
    "criv4 = Down_Data(ticker)\n",
    "criv4_analise = Analisys(criv4, ticker)\n",
    "criv4_graph = Graph(criv4, ticker)\n",
    "\n",
    "\n",
    "criv4_graph\n"
   ]
  },
  {
   "cell_type": "code",
   "metadata": {},
   "outputs": [],
   "source": []
  }
 ]
}