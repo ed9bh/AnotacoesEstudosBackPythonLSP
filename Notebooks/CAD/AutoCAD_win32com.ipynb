{
 "cells": [
  {
   "cell_type": "markdown",
   "metadata": {},
   "source": [
    "https://win32com.goermezer.de/category/cad-systems\n",
    "\n",
    "https://github.com/reclosedev/pyautocad/tree/master/pyautocad"
   ]
  },
  {
   "cell_type": "code",
   "execution_count": 69,
   "metadata": {},
   "outputs": [],
   "source": [
    "from win32com.client import Dispatch\n",
    "import win32com\n",
    "import pythoncom\n",
    "#import win32com.client as wc\n",
    "\n",
    "import os\n",
    "import sys\n",
    "import logging\n",
    "import glob"
   ]
  },
  {
   "cell_type": "markdown",
   "metadata": {},
   "source": [
    "voice = Dispatch('SAPI.SpVoice')\n",
    "voice.Speak('Treino de Autocad em Python...')"
   ]
  },
  {
   "cell_type": "code",
   "execution_count": 96,
   "metadata": {},
   "outputs": [
    {
     "name": "stdout",
     "output_type": "stream",
     "text": [
      "Autocad Version tryed 00 || Error Type : (-2147221005, 'Cadeia de caracteres de classe inválida', None, None)\n",
      "Autocad Version tryed 01 || Error Type : (-2147221005, 'Cadeia de caracteres de classe inválida', None, None)\n",
      "Autocad Version tryed 02 || Error Type : (-2147221005, 'Cadeia de caracteres de classe inválida', None, None)\n",
      "Autocad Version tryed 03 || Error Type : (-2147221005, 'Cadeia de caracteres de classe inválida', None, None)\n",
      "Autocad Version tryed 04 || Error Type : (-2147221005, 'Cadeia de caracteres de classe inválida', None, None)\n",
      "Autocad Version tryed 05 || Error Type : (-2147221005, 'Cadeia de caracteres de classe inválida', None, None)\n",
      "Autocad Version tryed 06 || Error Type : (-2147221005, 'Cadeia de caracteres de classe inválida', None, None)\n",
      "Autocad Version tryed 07 || Error Type : (-2147221005, 'Cadeia de caracteres de classe inválida', None, None)\n",
      "Autocad Version tryed 08 || Error Type : (-2147221005, 'Cadeia de caracteres de classe inválida', None, None)\n",
      "Autocad Version tryed 09 || Error Type : (-2147221005, 'Cadeia de caracteres de classe inválida', None, None)\n",
      "Autocad Version tryed 10 || Error Type : (-2147221005, 'Cadeia de caracteres de classe inválida', None, None)\n",
      "Autocad Version tryed 11 || Error Type : (-2147221005, 'Cadeia de caracteres de classe inválida', None, None)\n",
      "Autocad Version tryed 12 || Error Type : (-2147221005, 'Cadeia de caracteres de classe inválida', None, None)\n",
      "Autocad Version tryed 13 || Error Type : (-2147221005, 'Cadeia de caracteres de classe inválida', None, None)\n",
      "Autocad Version tryed 14 || Error Type : (-2147221005, 'Cadeia de caracteres de classe inválida', None, None)\n",
      "Autocad Version tryed 15 || Error Type : (-2147221005, 'Cadeia de caracteres de classe inválida', None, None)\n",
      "Autocad Version tryed 16 || Error Type : (-2147221005, 'Cadeia de caracteres de classe inválida', None, None)\n",
      "Autocad Version tryed 17 || Error Type : (-2147221005, 'Cadeia de caracteres de classe inválida', None, None)\n",
      "Autocad Version tryed 18 || Error Type : (-2147221005, 'Cadeia de caracteres de classe inválida', None, None)\n",
      "Autocad Version tryed 19 || Error Type : (-2147221005, 'Cadeia de caracteres de classe inválida', None, None)\n",
      "AutoCAD Version = 20 : <win32com.gen_py.AutoCAD 2016 Type Library.IAcadApplication instance at 0x1954404548224>\n"
     ]
    }
   ],
   "source": [
    "for c in range(0, 50):\n",
    "    cad = 'AutoCAD.Application.' + str(c)\n",
    "    try:\n",
    "        acad = Dispatch(dispatch=cad, userName=None, resultCLSID=None, typeinfo=None, UnicodeToString=None, clsctx=20)\n",
    "        print('AutoCAD Version = ' + str(c) + ' : ' + str(acad))\n",
    "        break\n",
    "    except Exception as error:\n",
    "        print('Autocad Version tryed {:02.0F} || Error Type : {}'.format( c , error ))"
   ]
  },
  {
   "cell_type": "code",
   "execution_count": 12,
   "metadata": {},
   "outputs": [],
   "source": [
    "acad.Visible = True"
   ]
  },
  {
   "cell_type": "code",
   "execution_count": 13,
   "metadata": {},
   "outputs": [],
   "source": [
    "doc = acad.ActiveDocument"
   ]
  },
  {
   "cell_type": "code",
   "execution_count": null,
   "metadata": {},
   "outputs": [],
   "source": [
    "doc.Name"
   ]
  },
  {
   "cell_type": "code",
   "execution_count": 14,
   "metadata": {},
   "outputs": [],
   "source": [
    "model = doc.ModelSpace"
   ]
  },
  {
   "cell_type": "markdown",
   "metadata": {},
   "source": [
    "# Talvez Seja mais simples descobrir as funções dessa forma com CAST"
   ]
  },
  {
   "cell_type": "code",
   "execution_count": 88,
   "metadata": {},
   "outputs": [],
   "source": [
    "### Cast \n",
    "Acad = win32com.client.CastTo(acad, 'IAcadApplication')\n",
    "Doc = win32com.client.CastTo(doc, 'IAcadDocument')\n",
    "Model = win32com.client.CastTo(model, 'IAcadModelSpace')"
   ]
  },
  {
   "cell_type": "code",
   "execution_count": 90,
   "metadata": {},
   "outputs": [
    {
     "data": {
      "text/plain": [
       "<win32com.gen_py.AutoCAD 2016 Type Library.IAcadApplication instance at 0x1954369538816>"
      ]
     },
     "execution_count": 90,
     "metadata": {},
     "output_type": "execute_result"
    }
   ],
   "source": [
    "Acad"
   ]
  },
  {
   "cell_type": "code",
   "execution_count": 86,
   "metadata": {},
   "outputs": [
    {
     "data": {
      "text/plain": [
       "<win32com.gen_py.AutoCAD 2016 Type Library.IAcadDocument instance at 0x1954369632968>"
      ]
     },
     "execution_count": 86,
     "metadata": {},
     "output_type": "execute_result"
    }
   ],
   "source": [
    "Doc"
   ]
  },
  {
   "cell_type": "code",
   "execution_count": 95,
   "metadata": {},
   "outputs": [
    {
     "data": {
      "text/plain": [
       "<win32com.gen_py.AutoCAD 2016 Type Library.IAcadModelSpace instance at 0x1954334226080>"
      ]
     },
     "execution_count": 95,
     "metadata": {},
     "output_type": "execute_result"
    }
   ],
   "source": [
    "Model"
   ]
  },
  {
   "cell_type": "code",
   "execution_count": 15,
   "metadata": {},
   "outputs": [],
   "source": [
    "count = model.Count"
   ]
  },
  {
   "cell_type": "code",
   "execution_count": null,
   "metadata": {},
   "outputs": [],
   "source": [
    "for c in range(count):\n",
    "    i = model.Item(c)\n",
    "    print(i.ObjectName)\n",
    "    print(i.Layer)\n",
    "    if 'text' in i.ObjectName.lower():\n",
    "        txt = wc.CastTo(i, 'IAcadText')\n",
    "        print(txt)\n",
    "        txt.TextString = 'Teste'\n",
    "        txt.Update()"
   ]
  },
  {
   "cell_type": "code",
   "execution_count": 19,
   "metadata": {},
   "outputs": [],
   "source": [
    "doc.Utility.Prompt('Teste...\\n')"
   ]
  },
  {
   "cell_type": "markdown",
   "metadata": {},
   "source": [
    "# Selecionar Entidades"
   ]
  },
  {
   "cell_type": "code",
   "execution_count": 32,
   "metadata": {},
   "outputs": [],
   "source": [
    "selection = doc.SelectionSets.Add('SS1')\n",
    "selection.SelectOnScreen()"
   ]
  },
  {
   "cell_type": "code",
   "execution_count": 65,
   "metadata": {},
   "outputs": [
    {
     "name": "stdout",
     "output_type": "stream",
     "text": [
      "---\n",
      "<win32com.gen_py.AutoCAD/ObjectDBX Common 20.0 Type Library.IAcadEntity instance at 0x1954372744304>\n",
      "AcDbLine\n",
      "0\n",
      "ByLayer\n",
      "<win32com.gen_py.AutoCAD/ObjectDBX Common 20.0 Type Library.IAcadAcCmColor instance at 0x1954372744360>\n",
      "True\n",
      "6760\n",
      "ByLayer\n",
      "---\n",
      "<win32com.gen_py.AutoCAD/ObjectDBX Common 20.0 Type Library.IAcadEntity instance at 0x1954372744248>\n",
      "AcDbLine\n",
      "0\n",
      "ByLayer\n",
      "<win32com.gen_py.AutoCAD/ObjectDBX Common 20.0 Type Library.IAcadAcCmColor instance at 0x1954372744528>\n",
      "True\n",
      "675F\n",
      "ByLayer\n",
      "---\n",
      "<win32com.gen_py.AutoCAD/ObjectDBX Common 20.0 Type Library.IAcadEntity instance at 0x1954372744640>\n",
      "AcDbLine\n",
      "0\n",
      "ByLayer\n",
      "<win32com.gen_py.AutoCAD/ObjectDBX Common 20.0 Type Library.IAcadAcCmColor instance at 0x1954372744696>\n",
      "True\n",
      "675E\n",
      "ByLayer\n"
     ]
    }
   ],
   "source": [
    "count = selection.Count\n",
    "for c in range(count):\n",
    "    i = selection.Item(c)\n",
    "    print('---')\n",
    "    print(i)\n",
    "    print(i.ObjectName)\n",
    "    # print(i.StartPoint)\n",
    "    # print(i.EndPoint)\n",
    "    # print(i.Length)\n",
    "    print(i.Layer)\n",
    "    print(i.Linetype)\n",
    "    print(i.TrueColor)\n",
    "    print(i.Visible)\n",
    "    print(i.Handle)\n",
    "    print(i.EntityTransparency)\n",
    "    pass\n",
    "# Remover Seleção\n",
    "doc.SelectionSets.Item('SS1').Delete()"
   ]
  },
  {
   "cell_type": "markdown",
   "metadata": {},
   "source": [
    "# Inserir Linhas"
   ]
  },
  {
   "cell_type": "code",
   "execution_count": 76,
   "metadata": {},
   "outputs": [],
   "source": [
    "def POINT(x, y, z):\n",
    "    return win32com.client.VARIANT(pythoncom.VT_ARRAY | pythoncom.VT_R8, (x, y, z))"
   ]
  },
  {
   "cell_type": "code",
   "execution_count": 78,
   "metadata": {},
   "outputs": [],
   "source": [
    "line = model.AddLine(POINT(0, 0, 0), POINT(220, 470, 0))"
   ]
  },
  {
   "cell_type": "code",
   "execution_count": 81,
   "metadata": {},
   "outputs": [],
   "source": [
    "line = win32com.client.CastTo(line, 'IAcadLine')"
   ]
  },
  {
   "cell_type": "code",
   "execution_count": 84,
   "metadata": {},
   "outputs": [
    {
     "data": {
      "text/plain": [
       "<win32com.gen_py.AutoCAD/ObjectDBX Common 20.0 Type Library.IAcadLine instance at 0x1954368362816>"
      ]
     },
     "execution_count": 84,
     "metadata": {},
     "output_type": "execute_result"
    }
   ],
   "source": [
    "line"
   ]
  },
  {
   "cell_type": "code",
   "execution_count": null,
   "metadata": {},
   "outputs": [],
   "source": [
    "acad.ZoomExtents()"
   ]
  },
  {
   "cell_type": "code",
   "execution_count": 3,
   "metadata": {},
   "outputs": [],
   "source": [
    "acad.Quit()"
   ]
  }
 ],
 "metadata": {
  "kernelspec": {
   "display_name": "Python 3",
   "language": "python",
   "name": "python3"
  },
  "language_info": {
   "codemirror_mode": {
    "name": "ipython",
    "version": 3
   },
   "file_extension": ".py",
   "mimetype": "text/x-python",
   "name": "python",
   "nbconvert_exporter": "python",
   "pygments_lexer": "ipython3",
   "version": "3.6.8"
  }
 },
 "nbformat": 4,
 "nbformat_minor": 2
}
