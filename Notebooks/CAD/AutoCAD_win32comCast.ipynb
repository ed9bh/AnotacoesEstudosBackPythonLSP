{
 "cells": [
  {
   "cell_type": "markdown",
   "metadata": {},
   "source": [
    "https://win32com.goermezer.de/category/cad-systems\n",
    "\n",
    "https://github.com/reclosedev/pyautocad/tree/master/pyautocad"
   ]
  },
  {
   "cell_type": "code",
   "execution_count": 41,
   "metadata": {},
   "outputs": [],
   "source": [
    "from win32com.client import Dispatch\n",
    "import win32com\n",
    "import pythoncom\n",
    "import array\n",
    "#import win32com.client as wc\n",
    "\n",
    "import os\n",
    "import sys\n",
    "import logging\n",
    "import glob"
   ]
  },
  {
   "cell_type": "markdown",
   "metadata": {},
   "source": [
    "voice = Dispatch('SAPI.SpVoice')\n",
    "voice.Speak('Treino de Autocad em Python...')"
   ]
  },
  {
   "cell_type": "code",
   "execution_count": null,
   "metadata": {},
   "outputs": [],
   "source": [
    "for c in range(0, 50):\n",
    "    cad = 'AutoCAD.Application.' + str(c)\n",
    "    try:\n",
    "        acad = Dispatch(dispatch=cad, userName=None, resultCLSID=None, typeinfo=None, UnicodeToString=None, clsctx=20)\n",
    "        print('AutoCAD Version = ' + str(c) + ' : ' + str(acad))\n",
    "        break\n",
    "    except Exception as error:\n",
    "        print('Autocad Version tryed {:02.0F} || Error Type : {}'.format( c , error ))"
   ]
  },
  {
   "cell_type": "code",
   "execution_count": 3,
   "metadata": {},
   "outputs": [],
   "source": [
    "doc = acad.ActiveDocument"
   ]
  },
  {
   "cell_type": "code",
   "execution_count": 4,
   "metadata": {},
   "outputs": [],
   "source": [
    "model = doc.ModelSpace"
   ]
  },
  {
   "cell_type": "code",
   "execution_count": 5,
   "metadata": {},
   "outputs": [],
   "source": [
    "### Cast \n",
    "Acad = win32com.client.CastTo(acad, 'IAcadApplication')\n",
    "Doc = win32com.client.CastTo(doc, 'IAcadDocument')\n",
    "Model = win32com.client.CastTo(model, 'IAcadModelSpace')"
   ]
  },
  {
   "cell_type": "code",
   "execution_count": 6,
   "metadata": {},
   "outputs": [],
   "source": [
    "acad.Visible = True"
   ]
  },
  {
   "cell_type": "code",
   "execution_count": 9,
   "metadata": {},
   "outputs": [],
   "source": [
    "def POINT(x, y, z):\n",
    "    return win32com.client.VARIANT(pythoncom.VT_ARRAY | pythoncom.VT_R8, (x, y, z))"
   ]
  },
  {
   "cell_type": "code",
   "execution_count": 90,
   "metadata": {},
   "outputs": [],
   "source": [
    "line = Model.AddLine(StartPoint=POINT(0,0,0), EndPoint=POINT(200,150,0))"
   ]
  },
  {
   "cell_type": "code",
   "execution_count": 78,
   "metadata": {},
   "outputs": [
    {
     "data": {
      "text/plain": [
       "array('d', [20.0, 20.0, 0.0, 40.0, 30.0, 0.0, 70.0, 40.0, 0.0])"
      ]
     },
     "execution_count": 78,
     "metadata": {},
     "output_type": "execute_result"
    }
   ],
   "source": [
    "ptl = []\n",
    "pt = [20.0,20.0,0]\n",
    "ptl = ptl + pt\n",
    "pt = [40.0,30.0,0]\n",
    "ptl = ptl + pt\n",
    "pt = [70.0,40.0,0]\n",
    "ptl = ptl + pt\n",
    "ptlst = array.array('d', ptl)\n",
    "ptlst"
   ]
  },
  {
   "cell_type": "code",
   "execution_count": 71,
   "metadata": {},
   "outputs": [
    {
     "ename": "TypeError",
     "evalue": "Internal error - the buffer length is not the sequence length!",
     "output_type": "error",
     "traceback": [
      "\u001b[1;31m---------------------------------------------------------------------------\u001b[0m",
      "\u001b[1;31mTypeError\u001b[0m                                 Traceback (most recent call last)",
      "\u001b[1;32m<ipython-input-71-e4bc221e1f2c>\u001b[0m in \u001b[0;36m<module>\u001b[1;34m\u001b[0m\n\u001b[1;32m----> 1\u001b[1;33m \u001b[0mpline\u001b[0m \u001b[1;33m=\u001b[0m \u001b[0mModel\u001b[0m\u001b[1;33m.\u001b[0m\u001b[0mAddPolyline\u001b[0m\u001b[1;33m(\u001b[0m\u001b[0mVerticesList\u001b[0m\u001b[1;33m=\u001b[0m\u001b[0mptlst\u001b[0m\u001b[1;33m)\u001b[0m\u001b[1;33m\u001b[0m\u001b[1;33m\u001b[0m\u001b[0m\n\u001b[0m",
      "\u001b[1;32m~\\AppData\\Local\\Temp\\gen_py\\3.6\\4E3F492A-FB57-4439-9BF0-1567ED84A3A9x0x1x0\\IAcadModelSpace.py\u001b[0m in \u001b[0;36mAddPolyline\u001b[1;34m(self, VerticesList)\u001b[0m\n\u001b[0;32m    343\u001b[0m         \u001b[1;32mdef\u001b[0m \u001b[0mAddPolyline\u001b[0m\u001b[1;33m(\u001b[0m\u001b[0mself\u001b[0m\u001b[1;33m,\u001b[0m \u001b[0mVerticesList\u001b[0m\u001b[1;33m=\u001b[0m\u001b[0mdefaultNamedNotOptArg\u001b[0m\u001b[1;33m)\u001b[0m\u001b[1;33m:\u001b[0m\u001b[1;33m\u001b[0m\u001b[1;33m\u001b[0m\u001b[0m\n\u001b[0;32m    344\u001b[0m                 \u001b[1;34m'Creates a polyline from a list of vertices'\u001b[0m\u001b[1;33m\u001b[0m\u001b[1;33m\u001b[0m\u001b[0m\n\u001b[1;32m--> 345\u001b[1;33m \t\tret = self._oleobj_.InvokeTypes(1564, LCID, 1, (9, 0), ((12, 1),),VerticesList\n\u001b[0m\u001b[0;32m    346\u001b[0m \t\t\t)\n\u001b[0;32m    347\u001b[0m                 \u001b[1;32mif\u001b[0m \u001b[0mret\u001b[0m \u001b[1;32mis\u001b[0m \u001b[1;32mnot\u001b[0m \u001b[1;32mNone\u001b[0m\u001b[1;33m:\u001b[0m\u001b[1;33m\u001b[0m\u001b[1;33m\u001b[0m\u001b[0m\n",
      "\u001b[1;31mTypeError\u001b[0m: Internal error - the buffer length is not the sequence length!"
     ]
    }
   ],
   "source": [
    "pline = Model.AddPolyline(VerticesList=ptlst)"
   ]
  },
  {
   "cell_type": "code",
   "execution_count": null,
   "metadata": {},
   "outputs": [],
   "source": []
  },
  {
   "cell_type": "code",
   "execution_count": null,
   "metadata": {},
   "outputs": [],
   "source": []
  },
  {
   "cell_type": "code",
   "execution_count": null,
   "metadata": {},
   "outputs": [],
   "source": []
  },
  {
   "cell_type": "code",
   "execution_count": null,
   "metadata": {},
   "outputs": [],
   "source": []
  },
  {
   "cell_type": "code",
   "execution_count": null,
   "metadata": {},
   "outputs": [],
   "source": []
  },
  {
   "cell_type": "code",
   "execution_count": null,
   "metadata": {},
   "outputs": [],
   "source": []
  },
  {
   "cell_type": "code",
   "execution_count": null,
   "metadata": {},
   "outputs": [],
   "source": [
    "Acad"
   ]
  },
  {
   "cell_type": "code",
   "execution_count": null,
   "metadata": {},
   "outputs": [],
   "source": [
    "Doc"
   ]
  },
  {
   "cell_type": "code",
   "execution_count": null,
   "metadata": {},
   "outputs": [],
   "source": [
    "Model"
   ]
  },
  {
   "cell_type": "code",
   "execution_count": null,
   "metadata": {},
   "outputs": [],
   "source": [
    "count = model.Count"
   ]
  },
  {
   "cell_type": "code",
   "execution_count": null,
   "metadata": {},
   "outputs": [],
   "source": [
    "for c in range(count):\n",
    "    i = model.Item(c)\n",
    "    print(i.ObjectName)\n",
    "    print(i.Layer)\n",
    "    if 'text' in i.ObjectName.lower():\n",
    "        txt = wc.CastTo(i, 'IAcadText')\n",
    "        print(txt)\n",
    "        txt.TextString = 'Teste'\n",
    "        txt.Update()"
   ]
  },
  {
   "cell_type": "code",
   "execution_count": null,
   "metadata": {},
   "outputs": [],
   "source": [
    "doc.Utility.Prompt('Teste...\\n')"
   ]
  },
  {
   "cell_type": "markdown",
   "metadata": {},
   "source": [
    "# Selecionar Entidades"
   ]
  },
  {
   "cell_type": "code",
   "execution_count": null,
   "metadata": {},
   "outputs": [],
   "source": [
    "selection = doc.SelectionSets.Add('SS1')\n",
    "selection.SelectOnScreen()"
   ]
  },
  {
   "cell_type": "code",
   "execution_count": null,
   "metadata": {},
   "outputs": [],
   "source": [
    "count = selection.Count\n",
    "for c in range(count):\n",
    "    i = selection.Item(c)\n",
    "    print('---')\n",
    "    print(i)\n",
    "    print(i.ObjectName)\n",
    "    # print(i.StartPoint)\n",
    "    # print(i.EndPoint)\n",
    "    # print(i.Length)\n",
    "    print(i.Layer)\n",
    "    print(i.Linetype)\n",
    "    print(i.TrueColor)\n",
    "    print(i.Visible)\n",
    "    print(i.Handle)\n",
    "    print(i.EntityTransparency)\n",
    "    pass\n",
    "# Remover Seleção\n",
    "doc.SelectionSets.Item('SS1').Delete()"
   ]
  },
  {
   "cell_type": "markdown",
   "metadata": {},
   "source": [
    "# Inserir Linhas"
   ]
  },
  {
   "cell_type": "code",
   "execution_count": null,
   "metadata": {},
   "outputs": [],
   "source": [
    "def POINT(x, y, z):\n",
    "    return win32com.client.VARIANT(pythoncom.VT_ARRAY | pythoncom.VT_R8, (x, y, z))"
   ]
  },
  {
   "cell_type": "code",
   "execution_count": null,
   "metadata": {},
   "outputs": [],
   "source": [
    "line = model.AddLine(POINT(0, 0, 0), POINT(220, 470, 0))"
   ]
  },
  {
   "cell_type": "code",
   "execution_count": null,
   "metadata": {},
   "outputs": [],
   "source": [
    "line = win32com.client.CastTo(line, 'IAcadLine')"
   ]
  },
  {
   "cell_type": "code",
   "execution_count": null,
   "metadata": {},
   "outputs": [],
   "source": [
    "line"
   ]
  },
  {
   "cell_type": "code",
   "execution_count": null,
   "metadata": {},
   "outputs": [],
   "source": [
    "acad.ZoomExtents()"
   ]
  },
  {
   "cell_type": "code",
   "execution_count": null,
   "metadata": {},
   "outputs": [],
   "source": [
    "acad.Quit()"
   ]
  }
 ],
 "metadata": {
  "kernelspec": {
   "display_name": "Python 3",
   "language": "python",
   "name": "python3"
  },
  "language_info": {
   "codemirror_mode": {
    "name": "ipython",
    "version": 3
   },
   "file_extension": ".py",
   "mimetype": "text/x-python",
   "name": "python",
   "nbconvert_exporter": "python",
   "pygments_lexer": "ipython3",
   "version": "3.6.8"
  }
 },
 "nbformat": 4,
 "nbformat_minor": 2
}
