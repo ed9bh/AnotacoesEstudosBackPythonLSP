{
 "cells": [
  {
   "cell_type": "code",
   "execution_count": 42,
   "metadata": {},
   "outputs": [],
   "source": [
    "import matplotlib.pyplot as plt\n",
    "from numpy import degrees, sign, arccos, arcsin, trunc, pi, real, array\n",
    "from functools import reduce"
   ]
  },
  {
   "cell_type": "markdown",
   "metadata": {},
   "source": [
    "## Volumes"
   ]
  },
  {
   "cell_type": "markdown",
   "metadata": {},
   "source": [
    "### Tronco de Piramide"
   ]
  },
  {
   "cell_type": "code",
   "execution_count": 2,
   "metadata": {},
   "outputs": [],
   "source": [
    "Area01 = 50\n",
    "Area02 = 60\n",
    "Elev01 = 100\n",
    "Elev02 = 120"
   ]
  },
  {
   "cell_type": "code",
   "execution_count": 3,
   "metadata": {},
   "outputs": [
    {
     "name": "stdin",
     "output_type": "stream",
     "text": [
      "Area 01 :  50\n",
      "Elevação 01 :  60\n",
      "Area 02 :  100\n",
      "Elevação 02 :  120\n"
     ]
    }
   ],
   "source": [
    "Area01 = input('Area 01 : ')\n",
    "Elev01 = input('Elevação 01 : ')\n",
    "Area02 = input('Area 02 : ')\n",
    "Elev02 = input('Elevação 02 : ')\n",
    "Area01, Elev01, Area02, Elev02 = float(Area01), float(Elev01), float(Area02), float(Elev02)"
   ]
  },
  {
   "cell_type": "code",
   "execution_count": 4,
   "metadata": {},
   "outputs": [],
   "source": [
    "h = abs(Elev01 - Elev02)\n",
    "s = (Area01 + Area02 + (max(Area01, Area02) * min(Area01, Area02)) ** (1/2))\n",
    "TroncoPiramideVolume = h * s"
   ]
  },
  {
   "cell_type": "code",
   "execution_count": 5,
   "metadata": {},
   "outputs": [
    {
     "name": "stdout",
     "output_type": "stream",
     "text": [
      "Volume Tronco de Piramide : 13242.641m³\n"
     ]
    }
   ],
   "source": [
    "print('Volume Tronco de Piramide : {0:0.3f}m³'.format(TroncoPiramideVolume))"
   ]
  },
  {
   "cell_type": "markdown",
   "metadata": {},
   "source": [
    "### Volume em Cilindro"
   ]
  },
  {
   "cell_type": "code",
   "execution_count": 33,
   "metadata": {},
   "outputs": [],
   "source": [
    "Raio = 36 * 0.0254\n",
    "Comprimento = 12"
   ]
  },
  {
   "cell_type": "code",
   "execution_count": 34,
   "metadata": {},
   "outputs": [],
   "source": [
    "VolumeCilindro = (pi * Raio) * Comprimento"
   ]
  },
  {
   "cell_type": "code",
   "execution_count": 35,
   "metadata": {},
   "outputs": [
    {
     "name": "stdout",
     "output_type": "stream",
     "text": [
      "Volume do Cilindro : 34.47\n"
     ]
    }
   ],
   "source": [
    "print('Volume do Cilindro : {0:0.2f}'.format(VolumeCilindro))"
   ]
  },
  {
   "cell_type": "markdown",
   "metadata": {},
   "source": [
    "## Geometria"
   ]
  },
  {
   "cell_type": "code",
   "execution_count": 24,
   "metadata": {},
   "outputs": [],
   "source": [
    "def PointListDistSort(Pbase, PointList=[]):\n",
    "    PointAnalize = []\n",
    "    Points = []\n",
    "    for p1 in PointList:\n",
    "        dist = distance(Pbase, p1)\n",
    "        if dist != float(0):\n",
    "            PointAnalize.append([dist, p1])\n",
    "            pass\n",
    "        pass\n",
    "    PointAnalize.sort()\n",
    "    for p in PointAnalize:\n",
    "        #print(p)\n",
    "        Points.append(p[1])\n",
    "    return Points"
   ]
  },
  {
   "cell_type": "code",
   "execution_count": 6,
   "metadata": {},
   "outputs": [],
   "source": [
    "def distance(P1=[], P2=[]): # =RAIZ(((a2-a1)^2)+((b2-b1)^2))\n",
    "    if len(P1) == 3 and len(P2) == 3:\n",
    "        return (((P2[0] - P1[0])**2) + ((P2[1] - P1[1])**2) + ((P2[2] - P1[2])**2)) ** (1/2)\n",
    "    else:\n",
    "        return (((P2[0] - P1[0])**2) + ((P2[1] - P1[1])**2)) ** (1/2)"
   ]
  },
  {
   "cell_type": "code",
   "execution_count": 37,
   "metadata": {},
   "outputs": [],
   "source": [
    "def angHorario(P1=[], P2=[], P3=[]):\n",
    "    Calc = ( ((P2[0] - P1[0]) * (P3[1] - P1[0])) - ((P2[1] - P1[1]) * (P3[0] - P1[0])), 0)\n",
    "    return (Calc[0] > Calc[1]) - (Calc[0] < Calc[1])"
   ]
  },
  {
   "cell_type": "markdown",
   "metadata": {},
   "source": [
    "### Angulo Central"
   ]
  },
  {
   "cell_type": "code",
   "execution_count": 166,
   "metadata": {},
   "outputs": [],
   "source": [
    "Point1 = [211.6525, 160.6591, 0.0000]\n",
    "Point2 = [304.3397, 198.1969, 0.0000]\n",
    "Point3 = [393.5023, 152.9196, 0.0000]"
   ]
  },
  {
   "cell_type": "code",
   "execution_count": 167,
   "metadata": {},
   "outputs": [],
   "source": [
    "A = (((Point1[0] - Point3[0])**2) + ((Point1[1] - Point3[1])**2)) ** (1/2)\n",
    "B = (((Point2[0] - Point3[0])**2) + ((Point2[1] - Point3[1])**2)) ** (1/2)\n",
    "C = (((Point1[0] - Point2[0])**2) + ((Point1[1] - Point2[1])**2)) ** (1/2)"
   ]
  },
  {
   "cell_type": "code",
   "execution_count": 168,
   "metadata": {},
   "outputs": [],
   "source": [
    "Form1 = (A)**2 - (B)**2 - (C)**2\n",
    "Form2 = (B * C) * 2\n",
    "Form3 = Form1 / Form2\n",
    "Facos = arccos(Form3)\n",
    "Fasin = arcsin(Form3)"
   ]
  },
  {
   "cell_type": "code",
   "execution_count": 169,
   "metadata": {},
   "outputs": [],
   "source": [
    "ANG = trunc(degrees(Facos))\n",
    "ANG = '{:0003.0f}°'.format(ANG)\n",
    "\n",
    "MIN = int(((int((degrees(Facos) - int(degrees(Facos))) * 100)) / 100) * 60)\n",
    "MIN = '{:02d}\\''.format(MIN)\n",
    "\n",
    "SEC = (degrees(Facos * 100) - int(degrees(Facos * 100))) * 60\n",
    "SEC = '{:002.2f}\"'.format(SEC)\n",
    "\n",
    "ANGLE = ANG + MIN + SEC"
   ]
  },
  {
   "cell_type": "code",
   "execution_count": 170,
   "metadata": {},
   "outputs": [
    {
     "name": "stdout",
     "output_type": "stream",
     "text": [
      "AC : 048°57'56.43\"\n",
      "AC // ACOS : 48.969405\n",
      "AC // ASIN : 41.030595\n"
     ]
    }
   ],
   "source": [
    "print('AC : {}'.format(ANGLE))\n",
    "\n",
    "print('AC // ACOS : {0:0.6f}\\nAC // ASIN : {1:0.6f}'.format(degrees(Facos), degrees(Fasin)))"
   ]
  },
  {
   "cell_type": "markdown",
   "metadata": {},
   "source": [
    "##### Rascunho Lamba"
   ]
  },
  {
   "cell_type": "code",
   "execution_count": 184,
   "metadata": {},
   "outputs": [
    {
     "data": {
      "text/plain": [
       "[0.8333333333333334, 6.76, 1.945945945945946]"
      ]
     },
     "execution_count": 184,
     "metadata": {},
     "output_type": "execute_result"
    }
   ],
   "source": [
    "list(map((lambda x, y: x**2 / y), [5, 13, 12], [30, 25, 74]))"
   ]
  },
  {
   "cell_type": "code",
   "execution_count": 187,
   "metadata": {},
   "outputs": [
    {
     "data": {
      "text/plain": [
       "8.824977827076287"
      ]
     },
     "execution_count": 187,
     "metadata": {},
     "output_type": "execute_result"
    }
   ],
   "source": [
    "test = lambda x, y : (x / y) ** pi\n",
    "test( 12 , 6 )"
   ]
  },
  {
   "cell_type": "markdown",
   "metadata": {},
   "source": [
    "## Grahan Scan"
   ]
  },
  {
   "cell_type": "code",
   "execution_count": 58,
   "metadata": {},
   "outputs": [],
   "source": [
    "def GrahanScan(Points):\n",
    "    LEFT, RIGHT, NONE = (1, -1, 0)\n",
    "    \n",
    "    def side(a, b):\n",
    "        return (a > b) - (a < b)\n",
    "    \n",
    "    def turn(f, m, l):\n",
    "        return side((m[0] - f[0])*(l[1] - f[1]) - (l[0] - f[0])*(m[1] - f[1]), 0)\n",
    "    \n",
    "    def left(LPoints, point):\n",
    "        while len(LPoints) > 1 and turn(LPoints[-2], LPoints[-1], point) != LEFT:\n",
    "            LPoints.pop()\n",
    "            pass\n",
    "        if not len(LPoints) or LPoints[-1] != point:\n",
    "            LPoints.append(point)\n",
    "            pass\n",
    "        return LPoints\n",
    "    \n",
    "    Points = sorted(Points)\n",
    "    l = reduce(left, Points, [])\n",
    "    u = reduce(left, reversed(Points), [])\n",
    "    return l.extend(u[i] for i in range(1, len(u) - 1)) or l"
   ]
  },
  {
   "cell_type": "code",
   "execution_count": 65,
   "metadata": {},
   "outputs": [],
   "source": [
    "plista = [[101, 12], [103, 14], [102, 13], [101, 16], [103, 13], [102, 18], [104, 19], [100, 15], [130, 22], [126, 18]]"
   ]
  },
  {
   "cell_type": "code",
   "execution_count": 66,
   "metadata": {},
   "outputs": [],
   "source": [
    "plistA = GrahanScan(plista)"
   ]
  },
  {
   "cell_type": "code",
   "execution_count": 67,
   "metadata": {},
   "outputs": [
    {
     "data": {
      "image/png": "[encoded data removed]",
      "text/plain": [
       "<Figure size 432x288 with 1 Axes>"
      ]
     },
     "metadata": {
      "needs_background": "light"
     },
     "output_type": "display_data"
    }
   ],
   "source": [
    "try:\n",
    "    plistA = array(plistA)\n",
    "    plt.plot(plistA[:, [0]], plistA[:, [1]])\n",
    "    pass\n",
    "except:\n",
    "    pass\n",
    "for p in plista:\n",
    "    plt.scatter(p[0], p[1])\n",
    "    pass\n",
    "plt.show()"
   ]
  },
  {
   "cell_type": "code",
   "execution_count": null,
   "metadata": {},
   "outputs": [],
   "source": []
  }
 ],
 "metadata": {
  "kernelspec": {
   "display_name": "Python 3",
   "language": "python",
   "name": "python3"
  },
  "language_info": {
   "codemirror_mode": {
    "name": "ipython",
    "version": 3
   },
   "file_extension": ".py",
   "mimetype": "text/x-python",
   "name": "python",
   "nbconvert_exporter": "python",
   "pygments_lexer": "ipython3",
   "version": "3.7.3"
  }
 },
 "nbformat": 4,
 "nbformat_minor": 2
}
