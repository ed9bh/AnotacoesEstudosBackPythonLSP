{
 "cells": [
  {
   "cell_type": "markdown",
   "metadata": {},
   "source": [
    "# Exemplo 01 - PyAutocad\n",
    "\n",
    "https://pyautocad.readthedocs.io/en/latest/"
   ]
  },
  {
   "cell_type": "code",
   "execution_count": null,
   "metadata": {},
   "outputs": [],
   "source": [
    "# Update // Install\n",
    "#!python -m pip install --upgrade pip\n",
    "#!pip install comtypes\n",
    "#!pip install pyautocad\n",
    "#%pip install xlrd\n",
    "#%pip install tablib"
   ]
  },
  {
   "cell_type": "code",
   "execution_count": null,
   "metadata": {},
   "outputs": [],
   "source": [
    "from pyautocad import Autocad, APoint"
   ]
  },
  {
   "cell_type": "raw",
   "metadata": {},
   "source": [
    "import logging\n",
    "import comtypes\n",
    "import glob\n",
    "import os\n",
    "\n",
    "try:\n",
    "    import comtypes.client\n",
    "    # generate modules for work with ACAD constants\n",
    "    for pattern in (\"acax*enu.tlb\", \"axdb*enu.tlb\"):\n",
    "        pattern = os.path.join(\n",
    "            r\"C:\\Program Files\\Common Files\\Autodesk Shared\",\n",
    "            pattern\n",
    "        )\n",
    "        tlib = glob.glob(pattern)[0]\n",
    "        comtypes.client.GetModule(tlib)\n",
    "    import comtypes.gen.AutoCAD as ACAD\n",
    "except Exception:\n",
    "    # we are under readthedocs.org and need to mock this\n",
    "    ACAD = None"
   ]
  },
  {
   "cell_type": "code",
   "execution_count": null,
   "metadata": {},
   "outputs": [],
   "source": [
    "#acad = Autocad(create_if_not_exists=True, visible=True)\n",
    "acad = Autocad()"
   ]
  },
  {
   "cell_type": "code",
   "execution_count": null,
   "metadata": {},
   "outputs": [],
   "source": [
    "acad.prompt(\"Hi...thats's right!!!\")"
   ]
  },
  {
   "cell_type": "code",
   "execution_count": null,
   "metadata": {},
   "outputs": [],
   "source": [
    "p1 = APoint(0,0)\n",
    "p2 = APoint(50, 25)\n",
    "\n",
    "for i in range(5):\n",
    "    text = acad.model.AddText('Hi %s!' % i, p1, 2.5)\n",
    "    acad.model.AddLine(p1, p2)\n",
    "    acad.model.AddCircle(p1, 10)\n",
    "    p1.y += 10"
   ]
  },
  {
   "cell_type": "code",
   "execution_count": null,
   "metadata": {},
   "outputs": [],
   "source": [
    "dp = APoint(10,0)\n",
    "for text in acad.iter_objects('Text'):\n",
    "    print('text: %s at: %s' % (text.TextString, text.Insertionpoint))\n",
    "    text.InsertionPoint = APoint(text.InsertionPoint) + dp"
   ]
  },
  {
   "cell_type": "code",
   "execution_count": null,
   "metadata": {},
   "outputs": [],
   "source": [
    "for obj in acad.iter_objects(['Circle', 'Line']):\n",
    "    print(obj.ObjectName)"
   ]
  }
 ],
 "metadata": {
  "kernelspec": {
   "display_name": "Python 3",
   "language": "python",
   "name": "python3"
  },
  "language_info": {
   "codemirror_mode": {
    "name": "ipython",
    "version": 3
   },
   "file_extension": ".py",
   "mimetype": "text/x-python",
   "name": "python",
   "nbconvert_exporter": "python",
   "pygments_lexer": "ipython3",
   "version": "3.6.8"
  }
 },
 "nbformat": 4,
 "nbformat_minor": 2
}
