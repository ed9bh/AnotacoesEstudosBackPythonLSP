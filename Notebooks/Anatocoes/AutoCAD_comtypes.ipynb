{
 "cells": [
  {
   "cell_type": "markdown",
   "metadata": {},
   "source": [
    "https://github.com/reclosedev/pyautocad/tree/master/pyautocad"
   ]
  },
  {
   "cell_type": "raw",
   "metadata": {},
   "source": [
    "%pip install -U comtypes"
   ]
  },
  {
   "cell_type": "code",
   "execution_count": null,
   "metadata": {},
   "outputs": [],
   "source": [
    "#import comtypes.client\n",
    "from comtypes.client import CreateObject, GetActiveObject\n",
    "try:\n",
    "    import comtypes.gen.AutoCAD as ACAD\n",
    "    pass\n",
    "except Exception as error:\n",
    "    print(error)\n",
    "#import comtypes.gen.AXDBLib as AXDBLib\n",
    "# import pythoncom\n",
    "# import logging\n",
    "\n",
    "# import win32com.client\n",
    "# from win32com.client import Dispatch\n",
    "\n",
    "import array\n",
    "import random as rand\n",
    "import time\n",
    "\n",
    "import os\n",
    "import sys\n",
    "import glob"
   ]
  },
  {
   "cell_type": "markdown",
   "metadata": {},
   "source": [
    "## Inicialização"
   ]
  },
  {
   "cell_type": "code",
   "execution_count": null,
   "metadata": {},
   "outputs": [],
   "source": [
    "acad = CreateObject('AutoCAD.Application.20')"
   ]
  },
  {
   "cell_type": "code",
   "execution_count": null,
   "metadata": {},
   "outputs": [],
   "source": [
    "acad = GetActiveObject('AutoCAD.Application.20')"
   ]
  },
  {
   "cell_type": "code",
   "execution_count": null,
   "metadata": {},
   "outputs": [],
   "source": [
    "for c in range(14, 30):\n",
    "    cad = 'AutoCAD.Application.' + str(c)\n",
    "    try:\n",
    "        #xacad = Dispatch(cad)\n",
    "        #print('Pego pelo Win32com...\\t')\n",
    "        #time.sleep(10)\n",
    "        #acad = GetActiveObject(cad)\n",
    "        acad = CreateObject(cad)\n",
    "        print('AutoCAD Version = R' + str(c) + ' : ' + str(acad))\n",
    "        break\n",
    "    except Exception as error:\n",
    "        print('Autocad Version tryed R{:02.0F} || Error Type : {}'.format( c , error ))\n",
    "        pass\n",
    "    pass\n",
    "\n",
    "for c in range(0, 30):\n",
    "    civil = 'AeccXUiLand.AeccApplication'#+ str(int(c)) +'.0'\n",
    "    try:\n",
    "        #c3d = CreateObject(civil)\n",
    "        c3d = GetActiveObject(civil)\n",
    "        print('Civil Version : {}'.format(c))\n",
    "        break\n",
    "        pass\n",
    "    except Exception as error:\n",
    "        print(error)\n",
    "        pass"
   ]
  },
  {
   "cell_type": "code",
   "execution_count": null,
   "metadata": {},
   "outputs": [],
   "source": [
    "acad = CreateObject(ACAD.AcadApplication)"
   ]
  },
  {
   "cell_type": "code",
   "execution_count": null,
   "metadata": {},
   "outputs": [],
   "source": [
    "doc = acad.ActiveDocument"
   ]
  },
  {
   "cell_type": "code",
   "execution_count": null,
   "metadata": {},
   "outputs": [],
   "source": [
    "model = doc.ModelSpace"
   ]
  },
  {
   "cell_type": "code",
   "execution_count": null,
   "metadata": {},
   "outputs": [],
   "source": [
    "layout1 = doc.Layouts[0]"
   ]
  },
  {
   "cell_type": "code",
   "execution_count": null,
   "metadata": {},
   "outputs": [],
   "source": [
    "layout2 = doc.Layouts('Layout2')"
   ]
  },
  {
   "cell_type": "raw",
   "metadata": {},
   "source": [
    "xdoc = xacad.ActiveDocument"
   ]
  },
  {
   "cell_type": "raw",
   "metadata": {},
   "source": [
    "xmodel = xdoc.ModelSpace"
   ]
  },
  {
   "cell_type": "raw",
   "metadata": {},
   "source": [
    "xmodel(0).GetBoundingBox()"
   ]
  },
  {
   "cell_type": "raw",
   "metadata": {},
   "source": [
    "xmodel(0).GetXData(0)"
   ]
  },
  {
   "cell_type": "markdown",
   "metadata": {},
   "source": [
    "#### Manipulação do Programa"
   ]
  },
  {
   "cell_type": "code",
   "execution_count": null,
   "metadata": {},
   "outputs": [],
   "source": [
    "acad.Visible = False # Invisivel"
   ]
  },
  {
   "cell_type": "code",
   "execution_count": null,
   "metadata": {},
   "outputs": [],
   "source": [
    "acad.Visible = True # Visivel"
   ]
  },
  {
   "cell_type": "code",
   "execution_count": null,
   "metadata": {},
   "outputs": [],
   "source": [
    "acad.FullName"
   ]
  },
  {
   "cell_type": "markdown",
   "metadata": {},
   "source": [
    "#### Manipulação de Documento"
   ]
  },
  {
   "cell_type": "code",
   "execution_count": null,
   "metadata": {},
   "outputs": [],
   "source": [
    "doc.Name"
   ]
  },
  {
   "cell_type": "code",
   "execution_count": null,
   "metadata": {},
   "outputs": [],
   "source": [
    "doc.Path"
   ]
  },
  {
   "cell_type": "code",
   "execution_count": null,
   "metadata": {},
   "outputs": [],
   "source": [
    "layNew = doc.Layers.Add('Wafalo')"
   ]
  },
  {
   "cell_type": "code",
   "execution_count": null,
   "metadata": {},
   "outputs": [],
   "source": [
    "layNew.color = rand.randrange(start=1, stop=255)"
   ]
  },
  {
   "cell_type": "code",
   "execution_count": null,
   "metadata": {},
   "outputs": [],
   "source": [
    "# Cria Layout\n",
    "layoutNew = doc.Layouts.Add('Teste')"
   ]
  },
  {
   "cell_type": "code",
   "execution_count": null,
   "metadata": {},
   "outputs": [],
   "source": [
    "# Apaga Layout\n",
    "layoutNew.Delete()"
   ]
  },
  {
   "cell_type": "code",
   "execution_count": null,
   "metadata": {},
   "outputs": [],
   "source": [
    "# Purge\n",
    "doc.PurgeAll()"
   ]
  },
  {
   "cell_type": "code",
   "execution_count": null,
   "metadata": {},
   "outputs": [],
   "source": [
    "# Audit\n",
    "doc.AuditInfo(FixErr=True)"
   ]
  },
  {
   "cell_type": "code",
   "execution_count": null,
   "metadata": {},
   "outputs": [],
   "source": [
    "doc.SetVariable('PEDITACCEPT', 1)"
   ]
  },
  {
   "cell_type": "markdown",
   "metadata": {},
   "source": [
    "### Comandos de Desenho"
   ]
  },
  {
   "cell_type": "markdown",
   "metadata": {},
   "source": [
    "#### Line"
   ]
  },
  {
   "cell_type": "code",
   "execution_count": null,
   "metadata": {},
   "outputs": [],
   "source": [
    "line = model.AddLine(StartPoint=array.array('d', [120, 250, 0]),\n",
    "                     EndPoint=array.array('d', [120 + 15, 250 - 3, 0])\n",
    "                    )"
   ]
  },
  {
   "cell_type": "code",
   "execution_count": null,
   "metadata": {},
   "outputs": [],
   "source": [
    "line2 = model.AddLine(StartPoint=array.array('d', [180, 280, 0]),\n",
    "                     EndPoint=array.array('d', [175, 270, 0])\n",
    "                    )"
   ]
  },
  {
   "cell_type": "code",
   "execution_count": null,
   "metadata": {},
   "outputs": [],
   "source": [
    "acad.ZoomExtents()"
   ]
  },
  {
   "cell_type": "code",
   "execution_count": null,
   "metadata": {},
   "outputs": [],
   "source": [
    "line.color = 1\n",
    "line2.color = 3"
   ]
  },
  {
   "cell_type": "code",
   "execution_count": null,
   "metadata": {},
   "outputs": [],
   "source": [
    "line.Move(array.array('d', [0, 0, 0]), array.array('d', [50, 25, 0]))"
   ]
  },
  {
   "cell_type": "code",
   "execution_count": null,
   "metadata": {},
   "outputs": [],
   "source": [
    "acad.ZoomExtents()"
   ]
  },
  {
   "cell_type": "code",
   "execution_count": null,
   "metadata": {},
   "outputs": [],
   "source": [
    "line.Delta"
   ]
  },
  {
   "cell_type": "code",
   "execution_count": null,
   "metadata": {},
   "outputs": [],
   "source": [
    "line.StartPoint"
   ]
  },
  {
   "cell_type": "code",
   "execution_count": null,
   "metadata": {},
   "outputs": [],
   "source": [
    "line.EndPoint"
   ]
  },
  {
   "cell_type": "code",
   "execution_count": null,
   "metadata": {},
   "outputs": [],
   "source": [
    "line.Layer"
   ]
  },
  {
   "cell_type": "code",
   "execution_count": null,
   "metadata": {},
   "outputs": [],
   "source": [
    "line.GetBoundingBox()"
   ]
  },
  {
   "cell_type": "code",
   "execution_count": null,
   "metadata": {},
   "outputs": [],
   "source": [
    "line.Linetype"
   ]
  },
  {
   "cell_type": "code",
   "execution_count": null,
   "metadata": {},
   "outputs": [],
   "source": [
    "line.Length"
   ]
  },
  {
   "cell_type": "code",
   "execution_count": null,
   "metadata": {},
   "outputs": [],
   "source": [
    "# acExtendNone\n",
    "# acExtendBoth\n",
    "# acExtents\n",
    "# acExtendOtherEntity\n",
    "# acExtendThisEntity\n",
    "\n",
    "line.IntersectWith(line2, 0)"
   ]
  },
  {
   "cell_type": "markdown",
   "metadata": {},
   "source": [
    "#### LwPolyline"
   ]
  },
  {
   "cell_type": "code",
   "execution_count": null,
   "metadata": {},
   "outputs": [],
   "source": [
    "CoordList = []\n",
    "for dist in range(0, 1020, 20):\n",
    "    CoordList = CoordList + [dist, rand.randrange(start=200, stop=240)]\n",
    "    pass\n",
    "CoordList = array.array('d', CoordList)"
   ]
  },
  {
   "cell_type": "code",
   "execution_count": null,
   "metadata": {},
   "outputs": [],
   "source": [
    "#CoordList = array.array('d', [200,220 , 220,225 , 240,230 , 260,219])\n",
    "lwPoly = model.AddLightWeightPolyline(VerticesList=CoordList)"
   ]
  },
  {
   "cell_type": "code",
   "execution_count": null,
   "metadata": {},
   "outputs": [],
   "source": [
    "acad.ZoomExtents()"
   ]
  },
  {
   "cell_type": "code",
   "execution_count": null,
   "metadata": {},
   "outputs": [],
   "source": [
    "lwPoly.color = 249"
   ]
  },
  {
   "cell_type": "code",
   "execution_count": null,
   "metadata": {},
   "outputs": [],
   "source": [
    "lwPoly.Area"
   ]
  },
  {
   "cell_type": "code",
   "execution_count": null,
   "metadata": {},
   "outputs": [],
   "source": [
    "lwPoly.Length"
   ]
  },
  {
   "cell_type": "code",
   "execution_count": null,
   "metadata": {},
   "outputs": [],
   "source": [
    "lwPoly.Coordinate(1)"
   ]
  },
  {
   "cell_type": "raw",
   "metadata": {},
   "source": [
    "lwPoly.Coordinates"
   ]
  },
  {
   "cell_type": "code",
   "execution_count": null,
   "metadata": {},
   "outputs": [],
   "source": [
    "lwPoly.GetBoundingBox()"
   ]
  },
  {
   "cell_type": "code",
   "execution_count": null,
   "metadata": {},
   "outputs": [],
   "source": [
    "lwPoly.Elevation = 1000"
   ]
  },
  {
   "cell_type": "code",
   "execution_count": null,
   "metadata": {},
   "outputs": [],
   "source": [
    "lwPoly.Elevation"
   ]
  },
  {
   "cell_type": "code",
   "execution_count": null,
   "metadata": {},
   "outputs": [],
   "source": [
    "lwPoly.ConstantWidth = 0.5"
   ]
  },
  {
   "cell_type": "code",
   "execution_count": null,
   "metadata": {},
   "outputs": [],
   "source": [
    "lwPoly.Erase()"
   ]
  },
  {
   "cell_type": "markdown",
   "metadata": {},
   "source": [
    "#### Circle"
   ]
  },
  {
   "cell_type": "code",
   "execution_count": null,
   "metadata": {},
   "outputs": [],
   "source": [
    "circle1 = model.AddCircle(Center=array.array('d', [500, 300, 0]), Radius=100)"
   ]
  },
  {
   "cell_type": "code",
   "execution_count": null,
   "metadata": {},
   "outputs": [],
   "source": [
    "circle2 = model.AddCircle(Center=array.array('d', [500, 300, 0]), Radius=50)"
   ]
  },
  {
   "cell_type": "code",
   "execution_count": null,
   "metadata": {},
   "outputs": [],
   "source": [
    "circle1.color = 140"
   ]
  },
  {
   "cell_type": "code",
   "execution_count": null,
   "metadata": {},
   "outputs": [],
   "source": [
    "circle2.color = 80"
   ]
  },
  {
   "cell_type": "code",
   "execution_count": null,
   "metadata": {},
   "outputs": [],
   "source": [
    "circle2.Center"
   ]
  },
  {
   "cell_type": "code",
   "execution_count": null,
   "metadata": {},
   "outputs": [],
   "source": [
    "circle1.Area"
   ]
  },
  {
   "cell_type": "code",
   "execution_count": null,
   "metadata": {},
   "outputs": [],
   "source": [
    "circle2.Circumference"
   ]
  },
  {
   "cell_type": "code",
   "execution_count": null,
   "metadata": {},
   "outputs": [],
   "source": [
    "circle1.Diameter"
   ]
  },
  {
   "cell_type": "code",
   "execution_count": null,
   "metadata": {},
   "outputs": [],
   "source": [
    "circle2.EntityTransparency = '50'"
   ]
  },
  {
   "cell_type": "markdown",
   "metadata": {},
   "source": [
    "#### 3D Polyline"
   ]
  },
  {
   "cell_type": "code",
   "execution_count": null,
   "metadata": {},
   "outputs": [],
   "source": [
    "CoordList3D = []\n",
    "for dist in range(0, 500, 5):\n",
    "    CoordList3D = CoordList3D + [ rand.randrange(start=dist - 100, stop=dist + 100), rand.randrange(start=100, stop=140), rand.randrange(start=100, stop=180) / 10 ]\n",
    "    pass\n",
    "CoordList3D = array.array('d', CoordList3D)"
   ]
  },
  {
   "cell_type": "code",
   "execution_count": null,
   "metadata": {},
   "outputs": [],
   "source": [
    "Poly3D = model.Add3DPoly(PointsArray=CoordList3D)"
   ]
  },
  {
   "cell_type": "code",
   "execution_count": null,
   "metadata": {},
   "outputs": [],
   "source": [
    "acad.ZoomExtents()"
   ]
  },
  {
   "cell_type": "code",
   "execution_count": null,
   "metadata": {},
   "outputs": [],
   "source": [
    "Poly3D.color = rand.randrange(start=1, stop=250)"
   ]
  },
  {
   "cell_type": "code",
   "execution_count": null,
   "metadata": {},
   "outputs": [],
   "source": [
    "Poly3D.Coordinate(15)"
   ]
  },
  {
   "cell_type": "code",
   "execution_count": null,
   "metadata": {},
   "outputs": [],
   "source": [
    "Poly3D.Length"
   ]
  },
  {
   "cell_type": "markdown",
   "metadata": {},
   "source": [
    "#### Point"
   ]
  },
  {
   "cell_type": "code",
   "execution_count": null,
   "metadata": {},
   "outputs": [],
   "source": [
    "Point = model.AddPoint(array.array('d', [250, 250, 20]))"
   ]
  },
  {
   "cell_type": "code",
   "execution_count": null,
   "metadata": {},
   "outputs": [],
   "source": [
    "#  0  1  2  3  4\n",
    "# 32 33 34 35 36\n",
    "# 64 65 66 67 68\n",
    "# 96 97 98 99 100\n",
    "doc.SetVariable('pdmode', 98)"
   ]
  },
  {
   "cell_type": "code",
   "execution_count": null,
   "metadata": {},
   "outputs": [],
   "source": [
    "doc.SetVariable('pdsize', 5)"
   ]
  },
  {
   "cell_type": "code",
   "execution_count": null,
   "metadata": {},
   "outputs": [],
   "source": [
    "Point.color = 256"
   ]
  },
  {
   "cell_type": "code",
   "execution_count": null,
   "metadata": {},
   "outputs": [],
   "source": [
    "Point.Layer = 'Wafalo'"
   ]
  },
  {
   "cell_type": "code",
   "execution_count": null,
   "metadata": {},
   "outputs": [],
   "source": [
    "acad.ZoomExtents()"
   ]
  },
  {
   "cell_type": "code",
   "execution_count": null,
   "metadata": {},
   "outputs": [],
   "source": [
    "Point.Coordinates"
   ]
  },
  {
   "cell_type": "markdown",
   "metadata": {},
   "source": [
    "#### Text"
   ]
  },
  {
   "cell_type": "code",
   "execution_count": null,
   "metadata": {},
   "outputs": [],
   "source": [
    "tpoint = array.array('d', [300, 300, 0])\n",
    "text = model.AddText(InsertionPoint=tpoint, Height=5, TextString='AAAAAAAAAAA')"
   ]
  },
  {
   "cell_type": "code",
   "execution_count": null,
   "metadata": {},
   "outputs": [],
   "source": [
    "text.color = rand.randrange(start=1, stop=255)"
   ]
  },
  {
   "cell_type": "code",
   "execution_count": null,
   "metadata": {},
   "outputs": [],
   "source": [
    "text.StyleName"
   ]
  },
  {
   "cell_type": "code",
   "execution_count": null,
   "metadata": {},
   "outputs": [],
   "source": [
    "text.HorizontalAlignment = 1"
   ]
  },
  {
   "cell_type": "code",
   "execution_count": null,
   "metadata": {},
   "outputs": [],
   "source": [
    "text.VerticalAlignment = 1"
   ]
  },
  {
   "cell_type": "code",
   "execution_count": null,
   "metadata": {},
   "outputs": [],
   "source": [
    "text.TextAlignmentPoint = tpoint"
   ]
  },
  {
   "cell_type": "code",
   "execution_count": null,
   "metadata": {},
   "outputs": [],
   "source": [
    "text.TextString = 'BBBBBBBBBBBBB'"
   ]
  },
  {
   "cell_type": "code",
   "execution_count": null,
   "metadata": {},
   "outputs": [],
   "source": [
    "text.InsertionPoint"
   ]
  },
  {
   "cell_type": "markdown",
   "metadata": {},
   "source": [
    "### Seleções // Input"
   ]
  },
  {
   "cell_type": "code",
   "execution_count": null,
   "metadata": {},
   "outputs": [],
   "source": [
    "doc.Utility.GetString(HasSpaces=False)"
   ]
  },
  {
   "cell_type": "code",
   "execution_count": null,
   "metadata": {},
   "outputs": [],
   "source": [
    "doc.Utility.GetInteger()"
   ]
  },
  {
   "cell_type": "code",
   "execution_count": null,
   "metadata": {},
   "outputs": [],
   "source": [
    "doc.Utility.GetReal()"
   ]
  },
  {
   "cell_type": "code",
   "execution_count": null,
   "metadata": {},
   "outputs": [],
   "source": [
    "doc.Utility.InitializeUserInput(1, 'Line Circle Polyline')\n",
    "doc.Utility.GetKeyword('Selecione uma opção [Line/Circle/Polyline] : ')"
   ]
  },
  {
   "cell_type": "code",
   "execution_count": null,
   "metadata": {},
   "outputs": [],
   "source": [
    "doc.Utility.GetInput()"
   ]
  },
  {
   "cell_type": "code",
   "execution_count": null,
   "metadata": {},
   "outputs": [],
   "source": [
    "doc.Utility.Prompt('\\nTexto no Prompt de comando\\n')"
   ]
  },
  {
   "cell_type": "code",
   "execution_count": null,
   "metadata": {},
   "outputs": [],
   "source": [
    "PointCoord = doc.Utility.GetPoint()\n",
    "PointCoord"
   ]
  },
  {
   "cell_type": "code",
   "execution_count": null,
   "metadata": {},
   "outputs": [],
   "source": [
    "doc.Utility.Prompt('Distancia entre Pontos : ')\n",
    "PointDist = doc.Utility.GetDistance()\n",
    "PointDist"
   ]
  },
  {
   "cell_type": "code",
   "execution_count": null,
   "metadata": {},
   "outputs": [],
   "source": [
    "doc.Utility.Prompt('Angulo entre Pontos : ')\n",
    "PointAng = doc.Utility.GetAngle()\n",
    "PointAng"
   ]
  },
  {
   "cell_type": "code",
   "execution_count": null,
   "metadata": {},
   "outputs": [],
   "source": [
    "# Distancia Polar Ponto, Angulo, Distancia\n",
    "doc.Utility.PolarPoint(array.array('d', PointCoord), PointAng, PointDist)"
   ]
  },
  {
   "cell_type": "code",
   "execution_count": null,
   "metadata": {},
   "outputs": [],
   "source": [
    "#obj = acad.ActiveDocument.ModelSpace(1)\n",
    "#enty1 = comtypes.cast(obj, comtypes.POINTER(ACAD.IAcadLine))"
   ]
  },
  {
   "cell_type": "code",
   "execution_count": null,
   "metadata": {},
   "outputs": [],
   "source": [
    "obj = model(0)\n",
    "print(obj.layer)\n",
    "#obj = comtypes.cast(obj, comtypes.POINTER(ACAD.IAcadPoint))"
   ]
  },
  {
   "cell_type": "code",
   "execution_count": null,
   "metadata": {},
   "outputs": [],
   "source": [
    "obj.Visible = True"
   ]
  },
  {
   "cell_type": "code",
   "execution_count": null,
   "metadata": {},
   "outputs": [],
   "source": [
    "obj.GetBoundingBox()[0]"
   ]
  },
  {
   "cell_type": "code",
   "execution_count": null,
   "metadata": {},
   "outputs": [],
   "source": [
    "cmd = '(setq xxx(car(entsel\"Entidade : \")))\\n'\n",
    "doc.SendCommand(cmd)\n",
    "doc.SendCommand('(command \"list\" xxx) \\n')"
   ]
  },
  {
   "cell_type": "code",
   "execution_count": null,
   "metadata": {},
   "outputs": [],
   "source": [
    "# Está dando erro as vezes funciona outras não...\n",
    "try:\n",
    "    enty = doc.Utility.GetEntity(\"Selecione Entidade: \")\n",
    "    \n",
    "    print(enty[0].color)\n",
    "    \n",
    "    enty[0].color = rand.randrange(start=0, stop=256)\n",
    "    \n",
    "    print(enty[0].EntityName)\n",
    "#    print(enty[0].StartPoint)\n",
    "#    print(enty[0].EndPoint)\n",
    "#    print(enty[0].Delta)\n",
    "#    print(enty[0].Layer)\n",
    "    \n",
    "    pass\n",
    "except Exception as error:\n",
    "    print('Erro desconhecido : ' + str(error))"
   ]
  },
  {
   "cell_type": "raw",
   "metadata": {},
   "source": [
    "count = model.Count\n",
    "for c in range(count):\n",
    "    i = model.Item(c)\n",
    "    print(i.ObjectName)\n",
    "    print(i.Layer)\n",
    "    if 'text' in i.ObjectName.lower():\n",
    "        txt = wc.CastTo(i, 'IAcadText')\n",
    "        print(txt)\n",
    "        txt.TextString = 'Teste'\n",
    "        txt.Update()"
   ]
  },
  {
   "cell_type": "code",
   "execution_count": null,
   "metadata": {},
   "outputs": [],
   "source": [
    "doc.Utility.Prompt('Teste...\\n')"
   ]
  },
  {
   "cell_type": "code",
   "execution_count": null,
   "metadata": {},
   "outputs": [],
   "source": [
    "try:\n",
    "    doc.SelectionSets('SS1').Delete()\n",
    "    pass\n",
    "except:\n",
    "    pass\n",
    "OneEntity = doc.SelectionSets.Add('SS1')"
   ]
  },
  {
   "cell_type": "code",
   "execution_count": null,
   "metadata": {},
   "outputs": [],
   "source": [
    "OneEntity.SingleOnly = True\n",
    "OneEntity.SinglePickInSpace = True\n",
    "OneEntity.SelectOnScreen()"
   ]
  },
  {
   "cell_type": "code",
   "execution_count": null,
   "metadata": {},
   "outputs": [],
   "source": [
    "for ent in range(OneEntity.Count):\n",
    "    ename = OneEntity[ent].EntityName\n",
    "    color = OneEntity[ent].color\n",
    "    layer = OneEntity[ent].Layer\n",
    "    print('----------')\n",
    "    print(ename)\n",
    "    print(color)\n",
    "    print(layer)\n",
    "    if ename == 'AcDbPolyline':\n",
    "        try:\n",
    "            print(OneEntity[ent].Coordinates)\n",
    "            pass\n",
    "        except Exception as error:\n",
    "            print('Error = ' + str(error))\n",
    "            pass\n",
    "        pass\n",
    "    elif ename == 'AcDbLine':\n",
    "        try:\n",
    "            print(OneEntity[ent].StartPoint)\n",
    "            print(OneEntity[ent].EndPoint)\n",
    "            pass\n",
    "        except Exception as error:\n",
    "            print('Error = ' + str(error))\n",
    "            pass\n",
    "        pass\n",
    "    elif ename == 'AcDbCircle':\n",
    "        try:\n",
    "            print(OneEntity[ent].Center)\n",
    "            pass\n",
    "        except Exception as error:\n",
    "            print('Error = ' + str(error))\n",
    "            pass\n",
    "        pass"
   ]
  },
  {
   "cell_type": "code",
   "execution_count": null,
   "metadata": {},
   "outputs": [],
   "source": [
    "#doc.SelectionSets.SelectionSet.SelectOnScreen('SS0')\n",
    "#OneEntity = acad.SelectionSet.SelectOnScreen.Add('aaa')\n",
    "#OneEntity = doc.PickfirstSelectionSet.SelectOnScreen()"
   ]
  },
  {
   "cell_type": "code",
   "execution_count": null,
   "metadata": {},
   "outputs": [],
   "source": [
    "ACAD"
   ]
  },
  {
   "cell_type": "code",
   "execution_count": null,
   "metadata": {},
   "outputs": [],
   "source": [
    "AXDBLib"
   ]
  },
  {
   "cell_type": "markdown",
   "metadata": {},
   "source": [
    "#### Sair do AutoCAD"
   ]
  },
  {
   "cell_type": "code",
   "execution_count": null,
   "metadata": {},
   "outputs": [],
   "source": [
    "doc.Close(False)\n",
    "acad.Quit()"
   ]
  }
 ],
 "metadata": {
  "kernelspec": {
   "display_name": "Python 3",
   "language": "python",
   "name": "python3"
  },
  "language_info": {
   "codemirror_mode": {
    "name": "ipython",
    "version": 3
   },
   "file_extension": ".py",
   "mimetype": "text/x-python",
   "name": "python",
   "nbconvert_exporter": "python",
   "pygments_lexer": "ipython3",
   "version": "3.7.3"
  }
 },
 "nbformat": 4,
 "nbformat_minor": 2
}
