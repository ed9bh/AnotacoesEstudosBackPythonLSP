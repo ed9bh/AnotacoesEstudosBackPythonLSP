{
 "cells": [
  {
   "cell_type": "code",
   "execution_count": 1,
   "metadata": {},
   "outputs": [],
   "source": [
    "# import comtypes.client\n",
    "from comtypes.client import GetActiveObject, GetModule, CreateObject\n",
    "from comtypes import GUID, IUnknown\n",
    "try:\n",
    "    import comtypes.gen.AutoCAD as ACAD\n",
    "    pass\n",
    "except Exception as error:\n",
    "    print(error)\n",
    "    \n",
    "import array"
   ]
  },
  {
   "cell_type": "code",
   "execution_count": 113,
   "metadata": {},
   "outputs": [],
   "source": [
    "try:\n",
    "    acad = GetActiveObject('AutoCAD.Application.23')\n",
    "    pass\n",
    "except:\n",
    "    try:\n",
    "        acad = CreateObject('AutoCAD.Application.23')\n",
    "        pass\n",
    "    except Exception as error:\n",
    "        print(error)\n",
    "        pass\n",
    "    pass"
   ]
  },
  {
   "cell_type": "code",
   "execution_count": 114,
   "metadata": {},
   "outputs": [],
   "source": [
    "doc = acad.ActiveDocument"
   ]
  },
  {
   "cell_type": "code",
   "execution_count": 115,
   "metadata": {},
   "outputs": [],
   "source": [
    "model = doc.ModelSpace"
   ]
  },
  {
   "cell_type": "code",
   "execution_count": 116,
   "metadata": {},
   "outputs": [],
   "source": [
    "layout = doc.Layouts[0]"
   ]
  },
  {
   "cell_type": "code",
   "execution_count": 117,
   "metadata": {},
   "outputs": [],
   "source": [
    "if acad.Visible == False:\n",
    "    acad.Visible = True"
   ]
  },
  {
   "cell_type": "markdown",
   "metadata": {},
   "source": [
    "#### AnyEntity : Propriedade Geral das Entidades"
   ]
  },
  {
   "cell_type": "code",
   "execution_count": 118,
   "metadata": {},
   "outputs": [],
   "source": [
    "class AnyEntity:\n",
    "    def __init__(self,\n",
    "                 layer='0',\n",
    "                 color=256,\n",
    "                 linetype='ByLayer',\n",
    "                 transparence='ByLayer',\n",
    "                 space=model\n",
    "                ):\n",
    "        self.layer = layer\n",
    "        self.color = color\n",
    "        self.linetype = linetype\n",
    "        self.transparence = transparence\n",
    "        self.space = space\n",
    "        self.ObjectID = None\n",
    "        self.ObjectPythonID = None\n",
    "        pass\n",
    "    def prop(self):\n",
    "        try:\n",
    "            self.ObjectPythonID.color = self.color\n",
    "            self.ObjectPythonID.layer = self.layer\n",
    "            self.ObjectPythonID.linetype = self.linetype\n",
    "            pass\n",
    "        except Exception as error:\n",
    "            doc.Utility.Prompt('\\nErro de propriedades...\\n')\n",
    "            print(error)\n",
    "    pass"
   ]
  },
  {
   "cell_type": "markdown",
   "metadata": {},
   "source": [
    "#### Line"
   ]
  },
  {
   "cell_type": "code",
   "execution_count": 119,
   "metadata": {},
   "outputs": [],
   "source": [
    "class Line(AnyEntity):\n",
    "    def draw(self, StartPoint=[], EndPoint=[]):\n",
    "        try:\n",
    "            self.ObjectPythonID = self.space.AddLine(\n",
    "                StartPoint=array.array('d', StartPoint),\n",
    "                EndPoint=array.array('d', EndPoint)\n",
    "            )\n",
    "            pass\n",
    "        except Exception as error:\n",
    "            print(error)\n",
    "            pass\n",
    "        try:\n",
    "            self.prop()\n",
    "            self.ObjectID = self.ObjectPythonID.ObjectID\n",
    "            pass\n",
    "        except Exception as error:\n",
    "            doc.Utility.Prompt('\\nErro ocorrido...\\n')\n",
    "            print(error)\n",
    "            pass\n",
    "        pass\n",
    "    \n",
    "    def hlp(self):\n",
    "        print('''\n",
    "        lin2 = Line()\n",
    "        lin2.draw([573717, 9290923, 0], [573757, 9290963, 0])\n",
    "        lin2.prop()\n",
    "        lin2.color = 223\n",
    "        lin2.prop()\n",
    "        ''')"
   ]
  },
  {
   "cell_type": "code",
   "execution_count": 127,
   "metadata": {},
   "outputs": [],
   "source": [
    "class Point(AnyEntity):\n",
    "    def draw(self, InsertPoint=[]):\n",
    "        try:\n",
    "            self.ObjectPythonID = self.space.AddPoint(array.array('d', InsertPoint))\n",
    "            pass\n",
    "        except Exception as error:\n",
    "            doc.Utility.Prompt('\\nErro ao inserir ponto...\\n')\n",
    "            print(error)\n",
    "            pass\n",
    "        try:\n",
    "            self.prop()\n",
    "            self.ObjectID = self.ObjectPythonID.ObjectID\n",
    "            pass\n",
    "        except Exception as error:\n",
    "            doc.Utility.Prompt('\\nErro ocorrido...\\n')\n",
    "            print(error)\n",
    "            pass\n",
    "        pass\n",
    "    \n",
    "    def hlp(self):\n",
    "        print('''\n",
    "        pp = Point()\n",
    "        pp.draw([573541.977, 9280837.69, 650])\n",
    "        pp.prop()\n",
    "        ''')"
   ]
  }
 ],
 "metadata": {
  "kernelspec": {
   "display_name": "Python 3",
   "language": "python",
   "name": "python3"
  },
  "language_info": {
   "codemirror_mode": {
    "name": "ipython",
    "version": 3
   },
   "file_extension": ".py",
   "mimetype": "text/x-python",
   "name": "python",
   "nbconvert_exporter": "python",
   "pygments_lexer": "ipython3",
   "version": "3.7.3"
  }
 },
 "nbformat": 4,
 "nbformat_minor": 2
}
