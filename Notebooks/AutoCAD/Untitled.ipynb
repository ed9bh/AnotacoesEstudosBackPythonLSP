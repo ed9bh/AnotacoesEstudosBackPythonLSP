{
 "cells": [
  {
   "cell_type": "code",
   "execution_count": 29,
   "metadata": {},
   "outputs": [
    {
     "name": "stdout",
     "output_type": "stream",
     "text": [
      "Finded : acdbmgd.dll\n",
      "[WinError -2147312566] Erro ao carregar a biblioteca/DLL de tipo\n",
      "Finded : acmgd.dll\n",
      "[WinError -2147312566] Erro ao carregar a biblioteca/DLL de tipo\n",
      "Finded : accoremgd.dll\n",
      "[WinError -2147312566] Erro ao carregar a biblioteca/DLL de tipo\n",
      "Finded : AecBaseMgd.dll\n",
      "[WinError -2147312566] Erro ao carregar a biblioteca/DLL de tipo\n",
      "Finded : C3D\\AeccDbMgd.dll\n",
      "[WinError -2147312566] Erro ao carregar a biblioteca/DLL de tipo\n"
     ]
    }
   ],
   "source": [
    "import sys\n",
    "import glob\n",
    "#if not hasattr(sys, 'freozen'):\n",
    "from comtypes.client import GetModule\n",
    "from ctypes import WinDLL\n",
    "#from win32api import GetModuleFileName, GetModuleFileNameW, GetModuleHandle\n",
    "path = r'C:\\Program Files\\Autodesk\\AutoCAD 2016\\\\'\n",
    "for module in ['acdbmgd.dll', 'acmgd.dll', 'accoremgd.dll', 'AecBaseMgd.dll', r'C3D\\AeccDbMgd.dll']:\n",
    "    if glob.glob(path + module):\n",
    "        print('Finded : ' + module)\n",
    "        pass\n",
    "    else:\n",
    "        print('Not Finded : ' + module)\n",
    "    try:\n",
    "        GetModule(path + module)\n",
    "        #WinDLL(module)\n",
    "        #GetModuleFileName(module)\n",
    "        pass\n",
    "    except Exception as error:\n",
    "        print(error)"
   ]
  },
  {
   "cell_type": "code",
   "execution_count": null,
   "metadata": {},
   "outputs": [],
   "source": []
  }
 ],
 "metadata": {
  "kernelspec": {
   "display_name": "Python 3",
   "language": "python",
   "name": "python3"
  },
  "language_info": {
   "codemirror_mode": {
    "name": "ipython",
    "version": 3
   },
   "file_extension": ".py",
   "mimetype": "text/x-python",
   "name": "python",
   "nbconvert_exporter": "python",
   "pygments_lexer": "ipython3",
   "version": "3.6.8"
  }
 },
 "nbformat": 4,
 "nbformat_minor": 2
}
