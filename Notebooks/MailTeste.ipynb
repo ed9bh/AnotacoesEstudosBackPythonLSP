{
 "cells": [
  {
   "cell_type": "code",
   "execution_count": 14,
   "metadata": {},
   "outputs": [],
   "source": [
    "import smtplib\n",
    "from getpass import getpass\n",
    "from email.message import EmailMessage\n",
    "import imghdr"
   ]
  },
  {
   "cell_type": "code",
   "execution_count": 5,
   "metadata": {},
   "outputs": [
    {
     "name": "stdin",
     "output_type": "stream",
     "text": [
      "Senha do email :  ············\n"
     ]
    }
   ],
   "source": [
    "EMAIL_ADD = 'ericdrumond@gmail.com'\n",
    "EMAIL_PAS = getpass('Senha do email : ')\n",
    "\n",
    "with smtplib.SMTP('smtp.gmail.com', 587) as smtp:\n",
    "    smtp.ehlo()\n",
    "    smtp.starttls()\n",
    "    smtp.ehlo()\n",
    "    smtp.login(EMAIL_ADD, EMAIL_PAS)\n",
    "    \n",
    "    subject = 'Teste'\n",
    "    body = 'Blablabla'\n",
    "    \n",
    "    msg = f'Subject: {subject}\\n\\n{body}'\n",
    "    \n",
    "    smtp.sendmail(EMAIL_ADD, 'ericdrumond@gmail.com', msg)\n",
    "    EMAIL_PAS = ''\n",
    "    pass"
   ]
  },
  {
   "cell_type": "code",
   "execution_count": 16,
   "metadata": {},
   "outputs": [
    {
     "name": "stdin",
     "output_type": "stream",
     "text": [
      "Senha do email :  ············\n"
     ]
    }
   ],
   "source": [
    "EMAIL_ADD = 'ericdrumond@gmail.com'\n",
    "EMAIL_PAS = getpass('Senha do email : ')\n",
    "\n",
    "msg = EmailMessage()\n",
    "msg['Subject'] = 'Teste'\n",
    "msg['From'] = EMAIL_ADD\n",
    "msg['To'] = EMAIL_ADD\n",
    "msg.set_content('Blablablabla')\n",
    "\n",
    "files = ['zzz.jpg']\n",
    "\n",
    "for file in files:\n",
    "    with open(file, 'rb') as f:\n",
    "        file_data = f.read()\n",
    "        file_type = imghdr.what(f.name)\n",
    "        file_name = f.name\n",
    "        pass\n",
    "    msg.add_attachment(file_data, maintype='image', subtype=file_type, filename=file_name)\n",
    "\n",
    "with smtplib.SMTP_SSL('smtp.gmail.com', 465) as smtp:\n",
    "    smtp.login(EMAIL_ADD, EMAIL_PAS)\n",
    "    \n",
    "    smtp.send_message(msg)"
   ]
  },
  {
   "cell_type": "raw",
   "metadata": {},
   "source": [
    "import os\n",
    "\n",
    "EADD = os.environ.get('EMAIL_USER')\n",
    "EPAS = os.environ.get('EMAIL_PASS')"
   ]
  }
 ],
 "metadata": {
  "kernelspec": {
   "display_name": "Python 3",
   "language": "python",
   "name": "python3"
  },
  "language_info": {
   "codemirror_mode": {
    "name": "ipython",
    "version": 3
   },
   "file_extension": ".py",
   "mimetype": "text/x-python",
   "name": "python",
   "nbconvert_exporter": "python",
   "pygments_lexer": "ipython3",
   "version": "3.7.3"
  }
 },
 "nbformat": 4,
 "nbformat_minor": 2
}
