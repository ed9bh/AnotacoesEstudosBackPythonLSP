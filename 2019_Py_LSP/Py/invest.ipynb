{
 "cells": [
  {
   "cell_type": "code",
   "execution_count": null,
   "metadata": {},
   "outputs": [],
   "source": [
    "from os import chdir, listdir, system\n",
    "\n",
    "import pandas as pd\n",
    "import pandas_datareader as pdr\n",
    "import numpy as np\n",
    "import matplotlib as mpl\n",
    "import datetime\n",
    "\n",
    "from requests import get\n",
    "from lxml import html\n",
    "\n",
    "from matplotlib import pylab as plt, dates as mpl_dates\n",
    "mpl.rc('figure', max_open_warning=0)\n",
    "pd.plotting.register_matplotlib_converters()\n",
    "\n",
    "#import pandas_bokeh\n",
    "#from quandl import get as qdl\n",
    "#from pandas.plotting import register_matplotlib_converters\n",
    "#from matplotlib import pyplot as plt, dates as mpl_dates\n",
    "#register_matplotlib_converters()\n",
    "\n",
    "import warnings\n",
    "warnings.filterwarnings('ignore')"
   ]
  },
  {
   "cell_type": "markdown",
   "metadata": {
    "tags": []
   },
   "source": [
    "for x, y in enumerate(plt.style.available):\n",
    "    print(f'{x} : {y}')"
   ]
  },
  {
   "cell_type": "markdown",
   "metadata": {},
   "source": [
    "Num | Sty | Num | Sty | Num | Sty\n",
    ":---:|:---:|:---:|:---:|:---:|:---:\n",
    "0 | bmh | 1 | classic | 2 | dark_background\n",
    "3 | fast | 4 | fivethirtyeight | 5 | ggplot\n",
    "6 | grayscale | 7 | seaborn-bright | 8 | seaborn-colorblind\n",
    "9 | seaborn-dark-palette | 10 | seaborn-dark | 11 | seaborn-darkgrid\n",
    "12 | seaborn-deep | 13 | seaborn-muted | 14 | seaborn-notebook\n",
    "15 | seaborn-paper | 16 | seaborn-pastel | 17 | seaborn-poster\n",
    "18 | seaborn-talk | 19 | seaborn-ticks | 20 | seaborn-white\n",
    "21 | seaborn-whitegrid | 22 | seaborn | 23 | Solarize_Light2\n",
    "24 | tableau-colorblind10 | 25 | _classic_test"
   ]
  },
  {
   "cell_type": "code",
   "execution_count": null,
   "metadata": {},
   "outputs": [],
   "source": [
    "%matplotlib inline\n",
    "plt.style.use(plt.style.available[2])"
   ]
  },
  {
   "cell_type": "code",
   "execution_count": null,
   "metadata": {},
   "outputs": [],
   "source": [
    "class Color():\n",
    "    \n",
    "    if 'system' not in globals():\n",
    "        from os import system\n",
    "    system('color')\n",
    "    \n",
    "    HEADER = '\\033[95m'\n",
    "    OKBLUE = '\\033[94m'\n",
    "    OKGREEN = '\\033[92m'\n",
    "    WARNING = '\\033[93m'\n",
    "    FAIL = '\\033[91m'\n",
    "    END = '\\033[0m'\n",
    "    BOLD = '\\033[1m'\n",
    "    UNDERLINE = '\\033[4m'\n",
    "\n",
    "    BLACK = '\\033[30m'\n",
    "    RED = '\\033[31m'\n",
    "    GREEN = '\\033[32m'\n",
    "    YELLOW = '\\033[33m'\n",
    "    BLUE = '\\033[34m'\n",
    "    MAGENTA = '\\033[35m'\n",
    "    CYAN = '\\033[36m'\n",
    "    WHITE = '\\033[37m'\n",
    "\n",
    "    BG_BLACK = '\\033[99m'\n",
    "    BG_WHITE = '\\033[100m'\n",
    "    BG_RED = '\\033[101m'\n",
    "    BG_GREEN = '\\033[102m'\n",
    "    BG_YELLOW = '\\033[103m'\n",
    "    BG_BLUE = '\\033[104m'\n",
    "    BG_PINK = '\\033[105m'\n",
    "    BG_CYAN = '\\033[106m'\n",
    "    BG_GREY = '\\033[107m'\n",
    "    pass"
   ]
  },
  {
   "cell_type": "markdown",
   "metadata": {},
   "source": [
    "### Indices Financeiros / Papeis Aportados"
   ]
  },
  {
   "cell_type": "code",
   "execution_count": null,
   "metadata": {},
   "outputs": [],
   "source": [
    "### Funções\n",
    "\n",
    "def macd(Table, F:int=12, S:int=26, M:int=9):\n",
    "    MACD = pd.DataFrame()\n",
    "    MACD['MACD'] = Table.rolling(F).mean() - Table.rolling(S).mean()\n",
    "    MACD['Signal'] = MACD['MACD'].rolling(M).mean()\n",
    "    return MACD\n",
    "\n",
    "def pivot(Table):\n",
    "    valor_max = max(Table)\n",
    "    valor_min = min(Table)\n",
    "\n",
    "    PP = (valor_max + valor_min + Table[-2]) / 3\n",
    "    # PP = (Data['High'][ref] + Data['Low'][ref] + Data['Close'][ref]) / 3\n",
    "\n",
    "    R1 = (2 * PP) - valor_min\n",
    "    # R1 = (2 * PP) - Data['Low'][ref]\n",
    "    R2 = PP + (valor_max - valor_min)\n",
    "    # R2 = PP + (Data['High'][ref] - Data['Low'][ref])\n",
    "    R3 = valor_max + (2 * (PP - valor_min))\n",
    "    # R3 = Data['High'][ref] + (2 * (PP - Data['Low'][ref]))\n",
    "\n",
    "    S1 = (2 * PP) - valor_max\n",
    "    # S1 = (2 * PP) - Data['High'][ref]\n",
    "    S2 = PP - (valor_max - valor_min)\n",
    "    # S2 = PP - (Data['High'][ref] - Data['Low'][ref])\n",
    "    S3 = valor_min - (2 * (valor_max - PP))\n",
    "    # S3 = Data['Low'][ref] - (2 * (Data['High'][ref] - PP))\n",
    "\n",
    "    return np.array([[R1, R2, R3], [S1, S2, S3]], dtype='float64')"
   ]
  },
  {
   "cell_type": "code",
   "execution_count": null,
   "metadata": {},
   "outputs": [],
   "source": [
    "tickers_index_base = ['^BVSP', 'USDBRL=X', 'GC=F', 'BTC-USD', 'CL=F']\n",
    "#tickers_index_base = sorted(tickers_index_base)\n",
    "\n",
    "with open('ticker.csv', 'r') as ticker_file:\n",
    "    tickers_base = ticker_file.read().split('\\n')\n",
    "    tickers_base = sorted(tickers_base)\n",
    "    tickers_base = list(filter(len, tickers_base))"
   ]
  },
  {
   "cell_type": "code",
   "execution_count": null,
   "metadata": {},
   "outputs": [],
   "source": [
    "df_index = pd.DataFrame()\n",
    "year = datetime.datetime.now().year\n",
    "month = datetime.datetime.now().month\n",
    "day = datetime.datetime.now().day\n",
    "start_date = f'{year - 1:0.0f}-{month:0.0f}-{day:0.0f}'\n",
    "remove_list = []"
   ]
  },
  {
   "cell_type": "code",
   "execution_count": null,
   "metadata": {},
   "outputs": [],
   "source": [
    "for i in tickers_index_base:\n",
    "    try:\n",
    "        df_index[i] = pdr.DataReader(name=i, data_source='yahoo', start=start_date)['Adj Close']\n",
    "        \n",
    "        #df_index[i] = pdr.yahoo.daily.YahooDailyReader(symbols=i, start=start_date)['Adj Close']\n",
    "    except Exception as err:\n",
    "        print(err)\n",
    "        print(f'{Color.RED}{i}{Color.END} nao foi localizado...')\n",
    "        remove_list.append(i)\n",
    "\n",
    "for i in remove_list:\n",
    "    tickers_index_base.remove(i)\n",
    "\n",
    "df_index.ffill(inplace=True)"
   ]
  },
  {
   "cell_type": "code",
   "execution_count": null,
   "metadata": {},
   "outputs": [],
   "source": [
    "df_index.describe()"
   ]
  },
  {
   "cell_type": "code",
   "execution_count": null,
   "metadata": {},
   "outputs": [],
   "source": [
    "index_log_returns = np.log(df_index / df_index.shift(1))\n",
    "index_std_returns = index_log_returns.std()\n",
    "index_var_returns = index_log_returns.var() * 250 ** 0.5\n",
    "index_cov_returns = index_log_returns.cov() * 250\n",
    "index_cor_returns = index_log_returns.corr()"
   ]
  },
  {
   "cell_type": "code",
   "execution_count": null,
   "metadata": {},
   "outputs": [],
   "source": [
    "index_log_returns.tail()"
   ]
  },
  {
   "cell_type": "code",
   "execution_count": null,
   "metadata": {},
   "outputs": [],
   "source": [
    "index_std_returns"
   ]
  },
  {
   "cell_type": "code",
   "execution_count": null,
   "metadata": {},
   "outputs": [],
   "source": [
    "index_var_returns"
   ]
  },
  {
   "cell_type": "code",
   "execution_count": null,
   "metadata": {},
   "outputs": [],
   "source": [
    "index_cov_returns"
   ]
  },
  {
   "cell_type": "code",
   "execution_count": null,
   "metadata": {},
   "outputs": [],
   "source": [
    "index_cor_returns"
   ]
  },
  {
   "cell_type": "code",
   "execution_count": null,
   "metadata": {
    "scrolled": true
   },
   "outputs": [],
   "source": [
    "df_index.tail(10)"
   ]
  },
  {
   "cell_type": "code",
   "execution_count": null,
   "metadata": {},
   "outputs": [],
   "source": [
    "(df_index / df_index.iloc[0] * 100).plot(figsize=(20,10))\n",
    "\n",
    "plt.tight_layout()"
   ]
  },
  {
   "cell_type": "code",
   "execution_count": null,
   "metadata": {},
   "outputs": [],
   "source": [
    "df_base = df_index.copy()\n",
    "remove_list = []"
   ]
  },
  {
   "cell_type": "code",
   "execution_count": null,
   "metadata": {},
   "outputs": [],
   "source": [
    "for i in tickers_base:\n",
    "    try:\n",
    "        df_base[i] = pdr.DataReader(name= i + '.SA', data_source='yahoo', start=start_date)['Adj Close']\n",
    "    except Exception as err:\n",
    "        print(err)\n",
    "        print(f'{i} nao esta disponivel ou não existe...')\n",
    "        remove_list.append(i)\n",
    "\n",
    "for i in remove_list:\n",
    "    try:\n",
    "        tickers_index_base.remove(i)\n",
    "    except:\n",
    "        pass\n",
    "\n",
    "df_base.ffill(inplace=True)"
   ]
  },
  {
   "cell_type": "code",
   "execution_count": null,
   "metadata": {},
   "outputs": [],
   "source": [
    "df_base.describe().to_excel('describe.xlsx')\n",
    "df_base.describe()"
   ]
  },
  {
   "cell_type": "code",
   "execution_count": null,
   "metadata": {},
   "outputs": [],
   "source": [
    "df_base.head(5)"
   ]
  },
  {
   "cell_type": "code",
   "execution_count": null,
   "metadata": {},
   "outputs": [],
   "source": [
    "df_base.tail(5)"
   ]
  },
  {
   "cell_type": "code",
   "execution_count": null,
   "metadata": {},
   "outputs": [],
   "source": [
    "base_log_returns = np.log(df_base / df_base.shift(1))\n",
    "base_std_returns = base_log_returns.std()\n",
    "base_var_returns = base_log_returns.var() * 250 ** 0.5\n",
    "base_cov_returns = base_log_returns.cov() * 250\n",
    "base_cor_returns = base_log_returns.corr()"
   ]
  },
  {
   "cell_type": "code",
   "execution_count": null,
   "metadata": {},
   "outputs": [],
   "source": [
    "base_log_returns.to_excel('base_log_returns.xlsx')\n",
    "base_cov_returns.to_excel('base_cov_returns.xlsx')\n",
    "base_cor_returns.to_excel('base_cor_returns.xlsx')\n",
    "base_log_returns.tail()"
   ]
  },
  {
   "cell_type": "code",
   "execution_count": null,
   "metadata": {},
   "outputs": [],
   "source": [
    "base_std_returns * 100"
   ]
  },
  {
   "cell_type": "code",
   "execution_count": null,
   "metadata": {},
   "outputs": [],
   "source": [
    "base_var_returns * 100"
   ]
  },
  {
   "cell_type": "code",
   "execution_count": null,
   "metadata": {},
   "outputs": [],
   "source": [
    "base_cov_returns"
   ]
  },
  {
   "cell_type": "code",
   "execution_count": null,
   "metadata": {},
   "outputs": [],
   "source": [
    "base_cor_returns"
   ]
  },
  {
   "cell_type": "code",
   "execution_count": null,
   "metadata": {
    "tags": []
   },
   "outputs": [],
   "source": [
    "#(df_base / df_base.iloc[0] * 100).plot(figsize=(20,10), color=['black', 'grey', 'gold', 'c', 'y', 'g', 'b', 'darkgreen', 'm', 'red', 'pink'], lw=1)\n",
    "(df_base / df_base.iloc[0] * 100).plot(figsize=(20,10), lw=1)\n",
    "\n",
    "plt.title('Gráfico Normalizado para Comparação de Valorização Geral')\n",
    "\n",
    "plt.tight_layout()\n",
    "plt.savefig('geral_normalizado_em_100.jpg')"
   ]
  },
  {
   "cell_type": "markdown",
   "metadata": {},
   "source": [
    "t = tickers_base[-1]\n",
    "\n",
    "last_value = df_base[t].iloc[-1]\n",
    "\n",
    "min_val = df_base[t].iloc[-250:].min()\n",
    "min_val_index = df_base[t].iloc[-250:].idxmin()\n",
    "min_val_mean = df_base[t].loc[min_val_index:].mean()\n",
    "\n",
    "max_val = df_base[t].iloc[-250:].max()\n",
    "max_val_index = df_base[t].iloc[-250:].idxmax()\n",
    "max_val_mean = df_base[t].loc[max_val_index:].mean()\n",
    "\n",
    "slope = min_val / last_value\n",
    "corredor_inicio = max_val * slope\n",
    "corredor_fim = max_val * (1 + slope)\n",
    "\n",
    "[\n",
    "    [last_value, slope, corredor_inicio, corredor_fim],\n",
    "    [min_val, min_val_index, min_val_mean],\n",
    "    [max_val, max_val_index, max_val_mean]\n",
    "    ]\n",
    "\n",
    "data = min_val_index.date() - df_base[t].index[-1].date()\n",
    "data.days"
   ]
  },
  {
   "cell_type": "code",
   "execution_count": null,
   "metadata": {
    "tags": []
   },
   "outputs": [],
   "source": [
    "periodo = -250\n",
    "fig, ax = plt.subplots(ncols=3, nrows=len(tickers_base), figsize=(30, len(tickers_base) * 5))\n",
    "\n",
    "for row, item in enumerate(tickers_base):\n",
    "    # Normalização\n",
    "    try:\n",
    "        analisys = tickers_index_base.copy()\n",
    "        analisys.append(tickers_base[row])\n",
    "        ax[row, 0].plot(df_base.iloc[periodo:][analisys] / df_base[analisys].iloc[periodo] * 100, lw=1)\n",
    "        #(df_base / df_base.iloc[0] * 100).plot(figsize=(20,10), color=['black', 'grey', 'gold', 'c', 'y', 'g', 'b', 'darkgreen', 'm', 'red', 'pink'], lw=1)\n",
    "        #ax[row, 0].set_color(['grey', 'grey', 'grey', 'grey', 'black'])\n",
    "        ax[row, 0].legend(analisys)\n",
    "        ax[row, 0].axhline(100, color='r', lw=1, ls=':', alpha=1)\n",
    "        pass\n",
    "    except Exception as err:\n",
    "        print(err)\n",
    "        pass\n",
    "    # Analise Tecnica I\n",
    "    try:\n",
    "        # Linha de Tendencia\n",
    "        t = tickers_base[row]\n",
    "\n",
    "        last_value = df_base[t].iloc[-1]\n",
    "\n",
    "        min_val = df_base[t].iloc[periodo:].min()\n",
    "        min_val_index = df_base[t].iloc[periodo:].idxmin()\n",
    "\n",
    "        max_val = df_base[t].loc[min_val_index:].max()\n",
    "        max_val_index = df_base[t].loc[min_val_index:].idxmax()\n",
    "        \n",
    "        mean_val = df_base[t].loc[min_val_index:].mean()\n",
    "\n",
    "        # data = min_val_index.date() - df_base[t].index[-1].date()\n",
    "        # per = -1 * data.days\n",
    "\n",
    "        # slope = min_val / mean_val\n",
    "        # corredor_inicio = min_val * (1 + slope)\n",
    "        # corredor_fim = (max_val * slope) + corredor_inicio #*  (1 + slope)\n",
    "\n",
    "        ax[row, 1].plot(\n",
    "            [df_base.index[periodo], df_base.index[-1]],\n",
    "            [df_base.iloc[periodo][t], np.mean(df_base.iloc[periodo:][t])],\n",
    "            color='pink', lw=2, ls=':', label='Tendencia', alpha=0.5)\n",
    "        \n",
    "        ax[row, 1].plot(\n",
    "            [min_val_index, df_base.index[-1]],\n",
    "            [min_val, mean_val],\n",
    "            color='pink', lw=2, ls=':', alpha=0.5)\n",
    "        \n",
    "        # ax[row, 1].plot(\n",
    "        #     [min_val_index, df_base.index[-1]],\n",
    "        #     [corredor_inicio, corredor_fim],\n",
    "        #     color='pink', lw=2, ls=':', alpha=0.5)\n",
    "\n",
    "        # Menor valor dos ultimos 22 dias\n",
    "        menor_22_dias = min(df_base.iloc[-22:-1][tickers_base[row]])\n",
    "        ax[row, 1].text(df_base.index[periodo//2], menor_22_dias * 1.02, f'Menor Valor 22 Dias : {menor_22_dias:0.2f}', va='center', ha='center', color='darkred', bbox=dict(facecolor='white', alpha=0.5))\n",
    "        ax[row, 1].axhline(menor_22_dias, color='gold', lw=1, ls=':')#, label=f'Min V. 22: {menor_22_dias:0.2f}', alpha=1)\n",
    "        ax[row, 1].axvline(df_base.index[-22], color='gold', lw=1, ls=':', alpha=1)\n",
    "        \n",
    "        # Média Movel Aritimética 21/72 dias\n",
    "        mma = pd.DataFrame()\n",
    "        mma['21'] = df_base[tickers_base[row]].rolling(21).mean()\n",
    "        mma['72'] = df_base[tickers_base[row]].rolling(72).mean()\n",
    "        ax[row, 1].plot(mma['21'].iloc[periodo:], lw=1, label='MMA 21', color='white', alpha=0.5)\n",
    "        ax[row, 1].plot(mma['72'].iloc[periodo:], lw=1, label='MMA 72', color='yellow', alpha=0.5)\n",
    "        \n",
    "        # Pivot\n",
    "        piv_array = pivot(df_base.iloc[-22:][tickers_base[row]])\n",
    "        piv_per = [df_base.index[-22], df_base.index[-22], df_base.index[-22]]\n",
    "        ax[row, 1].plot(piv_per[0], piv_array.mean(), '*', color='gold')\n",
    "        ax[row, 1].plot(piv_per, piv_array[0], '*', color='c', label='Res.')\n",
    "        ax[row, 1].plot(piv_per, piv_array[1], '*', color='r', label='Sup.')\n",
    "\n",
    "        # Principal\n",
    "        last_price = df_base.iloc[-1][tickers_base[row]]\n",
    "        lowest_price = min(df_base.iloc[periodo:][tickers_base[row]])\n",
    "        higher_price = max(df_base.iloc[periodo:][tickers_base[row]])\n",
    "        ax[row, 1].text(df_base.index[periodo//2], higher_price, f'{higher_price:0.2f}', va='top', ha='center', color='white', bbox=dict(facecolor='green', alpha=0.5))\n",
    "        ax[row, 1].text(df_base.index[periodo//2], lowest_price, f'{lowest_price:0.2f}', va='bottom', ha='center', color='white', bbox=dict(facecolor='red', alpha=0.5))\n",
    "        ax[row, 1].text(df_base.index[-1], last_price * 1.02, f'{last_price:0.2f}', va='bottom', ha='left', color='gold', bbox=dict(facecolor='blue', alpha=0.5))\n",
    "        ax[row, 1].plot(df_base.iloc[periodo:][tickers_base[row]], lw=1.5, label=tickers_base[row])\n",
    "        ax[row, 1].legend()\n",
    "        pass\n",
    "    except Exception as er:\n",
    "        print(er)\n",
    "        pass\n",
    "    # MACD / Signal\n",
    "    try:\n",
    "        mac = macd(df_base[tickers_base[row]].iloc[periodo:])\n",
    "        # ax[row, 2].bar(base_log_returns.index[periodo:], base_log_returns[item].iloc[periodo:] * 10, color='silver', alpha=0.5, label='Retorno Log.')\n",
    "        ax[row, 2].plot(mac['MACD'].iloc[periodo:], color='c', lw=2, label='MACD')\n",
    "        ax[row, 2].plot(mac['Signal'].iloc[periodo:], color='r', lw=1, label='Signal')\n",
    "        ax[row, 2].axhline(0, color='r', lw=1, ls=':', alpha=0.5)\n",
    "        ax[row, 2].axvline(mac['Signal'].index[-22], color='r', lw=1, ls=':', alpha=0.5)\n",
    "        intersections = np.argwhere(np.diff(np.sign(mac['MACD'] - mac['Signal']))).flatten()\n",
    "        ax[row, 2].plot(mac['Signal'].iloc[intersections], '*', color='y')\n",
    "        ax[row, 2].legend()\n",
    "        pass\n",
    "    except:\n",
    "        pass\n",
    "\n",
    "plt.tight_layout()\n",
    "fig.savefig('analise_geral_individual.jpg')"
   ]
  },
  {
   "cell_type": "markdown",
   "metadata": {},
   "source": [
    "## Analise Fundamentalista"
   ]
  },
  {
   "cell_type": "code",
   "execution_count": null,
   "metadata": {},
   "outputs": [],
   "source": [
    "# Funções\n",
    "\n",
    "def Fund_Data(ticker:str, url:str):\n",
    "    agent = {'User-Agent':'Mozilla/5.0'}\n",
    "    page = f'{url+ticker}'\n",
    "    content = get(page, headers=agent).text\n",
    "    return content #.encode('utf-8')\n",
    "\n",
    "def Preco_Justo(VPA:float, LPA:float, COTACAO:float):\n",
    "    if VPA > 0 and LPA > 0:\n",
    "        preco_justo = (22 * LPA * VPA) ** 0.5\n",
    "        fator = ((preco_justo - COTACAO) - 1) * 100\n",
    "        diferenca = preco_justo - COTACAO\n",
    "        return (preco_justo, fator, diferenca)\n",
    "    else:\n",
    "        return (0 , 0 , 0)"
   ]
  },
  {
   "cell_type": "code",
   "execution_count": null,
   "metadata": {},
   "outputs": [],
   "source": [
    "_urlbase = 'http://www.fundamentus.com.br/detalhes.php?papel='"
   ]
  },
  {
   "cell_type": "code",
   "execution_count": null,
   "metadata": {
    "tags": []
   },
   "outputs": [],
   "source": [
    "data_fundamentalist = {}\n",
    "\n",
    "for t in tickers_base:\n",
    "    try:\n",
    "        data = Fund_Data(t, _urlbase)\n",
    "        df_page = pd.read_html(data.encode('iso-8859-1'), thousands='.')\n",
    "\n",
    "        data_fundamentalist[t] = {\n",
    "            'Empresa' : df_page[0].iloc[2,1],\n",
    "            'Setor' : df_page[0].iloc[3,1],\n",
    "            'Sub-Setor' : df_page[0].iloc[4,1],\n",
    "            'Cotacao' : float(df_page[0].iloc[0,3].replace(',', '.')),\n",
    "            'Num_Acoes' : float(df_page[1].iloc[1,3].replace(',', '.')),\n",
    "            'LPA' : float(df_page[2].iloc[1,5].replace(',', '.')),\n",
    "            'VPA' : float(df_page[2].iloc[2,5].replace(',', '.'))\n",
    "            }\n",
    "    except:\n",
    "        pass"
   ]
  },
  {
   "cell_type": "code",
   "execution_count": null,
   "metadata": {
    "tags": []
   },
   "outputs": [],
   "source": [
    "fig, ax = plt.subplots(nrows=int(np.ceil(len(tickers_base) / 2)), ncols=2, figsize=(20, (len(tickers_base) / 2) * 1.75))\n",
    "\n",
    "r, c = 0, 0\n",
    "\n",
    "for key in data_fundamentalist.keys():\n",
    "    cota = data_fundamentalist[key]['Cotacao']\n",
    "    v = Preco_Justo(data_fundamentalist[key]['VPA'], data_fundamentalist[key]['LPA'], cota)\n",
    "    # print(f'{key} : PrecoJusto = {v[0]:0.3f} / Fator = {v[1]:0.3f}')\n",
    "    # print(f'{key} : Diferença = {v[2]:0.3f}')\n",
    "    vl = [data_fundamentalist[key]['VPA'], data_fundamentalist[key]['LPA']]\n",
    "    if vl[0] > 0 and vl[1] > 0:\n",
    "        cor_1 = 'grey'\n",
    "    else:\n",
    "        cor_1 = 'darkred'\n",
    "    \n",
    "    if v[0] > cota:\n",
    "        cor_2 = 'gold'\n",
    "    else:\n",
    "        cor_2 = 'white'\n",
    "\n",
    "    ax[r, c].bar(key, data_fundamentalist[key]['Cotacao'], label='Cotação', color=cor_1)\n",
    "    ax[r, c].bar(key, v[0], alpha=0.75, label='Preço Justo', color=cor_2)\n",
    "\n",
    "    #ax[r, c].legend()\n",
    "\n",
    "    ax[r, c].text(-0.175, v[0], f'Preço Justo : {v[0]:0.2f}', va='center', ha='center', color='black', bbox=dict(facecolor='white', alpha=0.75))\n",
    "    ax[r, c].text(0.175, cota, f'Cotação : {cota:0.2f}', va='center', ha='center', color='black', bbox=dict(facecolor='white', alpha=0.75))\n",
    "    ax[r, c].axhline(v[0], ls=':', lw=0.5, color='red')\n",
    "\n",
    "    if c == 0:\n",
    "        c = 1\n",
    "    else:\n",
    "        c = 0\n",
    "        r += 1\n",
    "#fig.suptitle('Análise Preço Justo')\n",
    "#fig.legend()\n",
    "plt.tight_layout()\n",
    "fig.savefig('fund_graph.jpg')"
   ]
  }
 ],
 "metadata": {
  "interpreter": {
   "hash": "957be7cd4df72eee28ec1d80a56ee16a6e9d88e5bd941133ee773bd9fa04ffb0"
  },
  "kernelspec": {
   "display_name": "Python 3.10.0 64-bit",
   "language": "python",
   "name": "python3"
  },
  "language_info": {
   "codemirror_mode": {
    "name": "ipython",
    "version": 3
   },
   "file_extension": ".py",
   "mimetype": "text/x-python",
   "name": "python",
   "nbconvert_exporter": "python",
   "pygments_lexer": "ipython3",
   "version": "3.10.0"
  }
 },
 "nbformat": 4,
 "nbformat_minor": 4
}
