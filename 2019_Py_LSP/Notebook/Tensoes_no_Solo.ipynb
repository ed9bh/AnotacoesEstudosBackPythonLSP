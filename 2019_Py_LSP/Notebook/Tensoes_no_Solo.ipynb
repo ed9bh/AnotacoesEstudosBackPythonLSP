{
 "cells": [
  {
   "cell_type": "markdown",
   "metadata": {},
   "source": [
    "# Mecânica dos Solos\n",
    "---\n",
    "\n",
    ">Aula Youtube:\n",
    ">>[Vídeo](https://www.youtube.com/watch?v=JTIODA7Nft4)"
   ]
  },
  {
   "cell_type": "code",
   "execution_count": 1,
   "metadata": {},
   "outputs": [],
   "source": [
    "import pandas as pd\n",
    "import matplotlib.pyplot as plt\n",
    "\n",
    "plt.style.use('bmh')"
   ]
  },
  {
   "cell_type": "markdown",
   "metadata": {},
   "source": [
    "## 001"
   ]
  },
  {
   "cell_type": "code",
   "execution_count": 2,
   "metadata": {},
   "outputs": [
    {
     "data": {
      "text/plain": [
       "{'Pontos': ['Superficie', 'A', 'B', 'C'],\n",
       " 'Profundidade': [0, 3, 7, 13],\n",
       " 'Peso Especifico': [0, 1.3, 1.96, 1.59]}"
      ]
     },
     "execution_count": 2,
     "metadata": {},
     "output_type": "execute_result"
    }
   ],
   "source": [
    "Niveis_001 = {\n",
    "    'Pontos' : ['Superficie', 'A', 'B', 'C'],\n",
    "    'Profundidade' : [0, 3, 7, 13],\n",
    "    'Peso Especifico' : [0, 1.3, 1.96, 1.59],\n",
    "}\n",
    "Niveis_001"
   ]
  },
  {
   "cell_type": "code",
   "execution_count": 3,
   "metadata": {},
   "outputs": [
    {
     "data": {
      "text/html": [
       "<div>\n",
       "<style scoped>\n",
       "    .dataframe tbody tr th:only-of-type {\n",
       "        vertical-align: middle;\n",
       "    }\n",
       "\n",
       "    .dataframe tbody tr th {\n",
       "        vertical-align: top;\n",
       "    }\n",
       "\n",
       "    .dataframe thead th {\n",
       "        text-align: right;\n",
       "    }\n",
       "</style>\n",
       "<table border=\"1\" class=\"dataframe\">\n",
       "  <thead>\n",
       "    <tr style=\"text-align: right;\">\n",
       "      <th></th>\n",
       "      <th>Pontos</th>\n",
       "      <th>Profundidade</th>\n",
       "      <th>Peso Especifico</th>\n",
       "    </tr>\n",
       "  </thead>\n",
       "  <tbody>\n",
       "    <tr>\n",
       "      <th>0</th>\n",
       "      <td>Superficie</td>\n",
       "      <td>0</td>\n",
       "      <td>0.00</td>\n",
       "    </tr>\n",
       "    <tr>\n",
       "      <th>1</th>\n",
       "      <td>A</td>\n",
       "      <td>3</td>\n",
       "      <td>1.30</td>\n",
       "    </tr>\n",
       "    <tr>\n",
       "      <th>2</th>\n",
       "      <td>B</td>\n",
       "      <td>7</td>\n",
       "      <td>1.96</td>\n",
       "    </tr>\n",
       "    <tr>\n",
       "      <th>3</th>\n",
       "      <td>C</td>\n",
       "      <td>13</td>\n",
       "      <td>1.59</td>\n",
       "    </tr>\n",
       "  </tbody>\n",
       "</table>\n",
       "</div>"
      ],
      "text/plain": [
       "       Pontos  Profundidade  Peso Especifico\n",
       "0  Superficie             0             0.00\n",
       "1           A             3             1.30\n",
       "2           B             7             1.96\n",
       "3           C            13             1.59"
      ]
     },
     "execution_count": 3,
     "metadata": {},
     "output_type": "execute_result"
    }
   ],
   "source": [
    "DF_Niveis_001 = pd.DataFrame(Niveis_001)\n",
    "DF_Niveis_001"
   ]
  },
  {
   "cell_type": "markdown",
   "metadata": {},
   "source": [
    "## Tensão Total"
   ]
  },
  {
   "cell_type": "code",
   "execution_count": 4,
   "metadata": {},
   "outputs": [
    {
     "data": {
      "text/html": [
       "<div>\n",
       "<style scoped>\n",
       "    .dataframe tbody tr th:only-of-type {\n",
       "        vertical-align: middle;\n",
       "    }\n",
       "\n",
       "    .dataframe tbody tr th {\n",
       "        vertical-align: top;\n",
       "    }\n",
       "\n",
       "    .dataframe thead th {\n",
       "        text-align: right;\n",
       "    }\n",
       "</style>\n",
       "<table border=\"1\" class=\"dataframe\">\n",
       "  <thead>\n",
       "    <tr style=\"text-align: right;\">\n",
       "      <th></th>\n",
       "      <th>Pontos</th>\n",
       "      <th>Profundidade</th>\n",
       "      <th>Peso Especifico</th>\n",
       "      <th>Desnivel</th>\n",
       "      <th>Tensao Total</th>\n",
       "    </tr>\n",
       "  </thead>\n",
       "  <tbody>\n",
       "    <tr>\n",
       "      <th>0</th>\n",
       "      <td>Superficie</td>\n",
       "      <td>0</td>\n",
       "      <td>0.00</td>\n",
       "      <td>0.0</td>\n",
       "      <td>0.00</td>\n",
       "    </tr>\n",
       "    <tr>\n",
       "      <th>1</th>\n",
       "      <td>A</td>\n",
       "      <td>3</td>\n",
       "      <td>1.30</td>\n",
       "      <td>3.0</td>\n",
       "      <td>3.90</td>\n",
       "    </tr>\n",
       "    <tr>\n",
       "      <th>2</th>\n",
       "      <td>B</td>\n",
       "      <td>7</td>\n",
       "      <td>1.96</td>\n",
       "      <td>4.0</td>\n",
       "      <td>11.74</td>\n",
       "    </tr>\n",
       "    <tr>\n",
       "      <th>3</th>\n",
       "      <td>C</td>\n",
       "      <td>13</td>\n",
       "      <td>1.59</td>\n",
       "      <td>6.0</td>\n",
       "      <td>21.28</td>\n",
       "    </tr>\n",
       "  </tbody>\n",
       "</table>\n",
       "</div>"
      ],
      "text/plain": [
       "       Pontos  Profundidade  Peso Especifico  Desnivel  Tensao Total\n",
       "0  Superficie             0             0.00       0.0          0.00\n",
       "1           A             3             1.30       3.0          3.90\n",
       "2           B             7             1.96       4.0         11.74\n",
       "3           C            13             1.59       6.0         21.28"
      ]
     },
     "execution_count": 4,
     "metadata": {},
     "output_type": "execute_result"
    }
   ],
   "source": [
    "DF_Niveis_001['Desnivel'] = DF_Niveis_001['Profundidade'] - DF_Niveis_001['Profundidade'].shift()\n",
    "DF_Niveis_001['Desnivel'] = DF_Niveis_001['Desnivel'].fillna(0)\n",
    "\n",
    "DF_Niveis_001['Tensao Total'] = [0 for _ in DF_Niveis_001.index]\n",
    "DF_Niveis_001['Tensao Total'] = (DF_Niveis_001['Desnivel'] * DF_Niveis_001['Peso Especifico'])\n",
    "\n",
    "DF_Niveis_001['Tensao Total'] = DF_Niveis_001['Tensao Total'].cumsum()\n",
    "\n",
    "DF_Niveis_001 = DF_Niveis_001.fillna(0)\n",
    "\n",
    "DF_Niveis_001"
   ]
  },
  {
   "cell_type": "markdown",
   "metadata": {},
   "source": [
    "## Tensão Neutra"
   ]
  },
  {
   "cell_type": "code",
   "execution_count": 5,
   "metadata": {},
   "outputs": [
    {
     "data": {
      "text/html": [
       "<div>\n",
       "<style scoped>\n",
       "    .dataframe tbody tr th:only-of-type {\n",
       "        vertical-align: middle;\n",
       "    }\n",
       "\n",
       "    .dataframe tbody tr th {\n",
       "        vertical-align: top;\n",
       "    }\n",
       "\n",
       "    .dataframe thead th {\n",
       "        text-align: right;\n",
       "    }\n",
       "</style>\n",
       "<table border=\"1\" class=\"dataframe\">\n",
       "  <thead>\n",
       "    <tr style=\"text-align: right;\">\n",
       "      <th></th>\n",
       "      <th>Pontos</th>\n",
       "      <th>Profundidade</th>\n",
       "      <th>Peso Especifico</th>\n",
       "      <th>Desnivel</th>\n",
       "      <th>Tensao Total</th>\n",
       "      <th>Presao Neutra</th>\n",
       "    </tr>\n",
       "  </thead>\n",
       "  <tbody>\n",
       "    <tr>\n",
       "      <th>0</th>\n",
       "      <td>Superficie</td>\n",
       "      <td>0</td>\n",
       "      <td>0.00</td>\n",
       "      <td>0.0</td>\n",
       "      <td>0.00</td>\n",
       "      <td>0</td>\n",
       "    </tr>\n",
       "    <tr>\n",
       "      <th>1</th>\n",
       "      <td>A</td>\n",
       "      <td>3</td>\n",
       "      <td>1.30</td>\n",
       "      <td>3.0</td>\n",
       "      <td>3.90</td>\n",
       "      <td>3</td>\n",
       "    </tr>\n",
       "    <tr>\n",
       "      <th>2</th>\n",
       "      <td>B</td>\n",
       "      <td>7</td>\n",
       "      <td>1.96</td>\n",
       "      <td>4.0</td>\n",
       "      <td>11.74</td>\n",
       "      <td>7</td>\n",
       "    </tr>\n",
       "    <tr>\n",
       "      <th>3</th>\n",
       "      <td>C</td>\n",
       "      <td>13</td>\n",
       "      <td>1.59</td>\n",
       "      <td>6.0</td>\n",
       "      <td>21.28</td>\n",
       "      <td>13</td>\n",
       "    </tr>\n",
       "  </tbody>\n",
       "</table>\n",
       "</div>"
      ],
      "text/plain": [
       "       Pontos  Profundidade  Peso Especifico  Desnivel  Tensao Total  \\\n",
       "0  Superficie             0             0.00       0.0          0.00   \n",
       "1           A             3             1.30       3.0          3.90   \n",
       "2           B             7             1.96       4.0         11.74   \n",
       "3           C            13             1.59       6.0         21.28   \n",
       "\n",
       "   Presao Neutra  \n",
       "0              0  \n",
       "1              3  \n",
       "2              7  \n",
       "3             13  "
      ]
     },
     "execution_count": 5,
     "metadata": {},
     "output_type": "execute_result"
    }
   ],
   "source": [
    "DF_Niveis_001['Presao Neutra'] = 1 * DF_Niveis_001['Profundidade']\n",
    "DF_Niveis_001"
   ]
  },
  {
   "cell_type": "markdown",
   "metadata": {},
   "source": [
    "## Tensão Efetiva"
   ]
  },
  {
   "cell_type": "code",
   "execution_count": 6,
   "metadata": {},
   "outputs": [
    {
     "data": {
      "text/html": [
       "<div>\n",
       "<style scoped>\n",
       "    .dataframe tbody tr th:only-of-type {\n",
       "        vertical-align: middle;\n",
       "    }\n",
       "\n",
       "    .dataframe tbody tr th {\n",
       "        vertical-align: top;\n",
       "    }\n",
       "\n",
       "    .dataframe thead th {\n",
       "        text-align: right;\n",
       "    }\n",
       "</style>\n",
       "<table border=\"1\" class=\"dataframe\">\n",
       "  <thead>\n",
       "    <tr style=\"text-align: right;\">\n",
       "      <th></th>\n",
       "      <th>Pontos</th>\n",
       "      <th>Profundidade</th>\n",
       "      <th>Peso Especifico</th>\n",
       "      <th>Desnivel</th>\n",
       "      <th>Tensao Total</th>\n",
       "      <th>Presao Neutra</th>\n",
       "      <th>Tensao Efetiva</th>\n",
       "    </tr>\n",
       "  </thead>\n",
       "  <tbody>\n",
       "    <tr>\n",
       "      <th>0</th>\n",
       "      <td>Superficie</td>\n",
       "      <td>0</td>\n",
       "      <td>0.00</td>\n",
       "      <td>0.0</td>\n",
       "      <td>0.00</td>\n",
       "      <td>0</td>\n",
       "      <td>0.00</td>\n",
       "    </tr>\n",
       "    <tr>\n",
       "      <th>1</th>\n",
       "      <td>A</td>\n",
       "      <td>3</td>\n",
       "      <td>1.30</td>\n",
       "      <td>3.0</td>\n",
       "      <td>3.90</td>\n",
       "      <td>3</td>\n",
       "      <td>0.90</td>\n",
       "    </tr>\n",
       "    <tr>\n",
       "      <th>2</th>\n",
       "      <td>B</td>\n",
       "      <td>7</td>\n",
       "      <td>1.96</td>\n",
       "      <td>4.0</td>\n",
       "      <td>11.74</td>\n",
       "      <td>7</td>\n",
       "      <td>4.74</td>\n",
       "    </tr>\n",
       "    <tr>\n",
       "      <th>3</th>\n",
       "      <td>C</td>\n",
       "      <td>13</td>\n",
       "      <td>1.59</td>\n",
       "      <td>6.0</td>\n",
       "      <td>21.28</td>\n",
       "      <td>13</td>\n",
       "      <td>8.28</td>\n",
       "    </tr>\n",
       "  </tbody>\n",
       "</table>\n",
       "</div>"
      ],
      "text/plain": [
       "       Pontos  Profundidade  Peso Especifico  Desnivel  Tensao Total  \\\n",
       "0  Superficie             0             0.00       0.0          0.00   \n",
       "1           A             3             1.30       3.0          3.90   \n",
       "2           B             7             1.96       4.0         11.74   \n",
       "3           C            13             1.59       6.0         21.28   \n",
       "\n",
       "   Presao Neutra  Tensao Efetiva  \n",
       "0              0            0.00  \n",
       "1              3            0.90  \n",
       "2              7            4.74  \n",
       "3             13            8.28  "
      ]
     },
     "execution_count": 6,
     "metadata": {},
     "output_type": "execute_result"
    }
   ],
   "source": [
    "DF_Niveis_001['Tensao Efetiva'] = DF_Niveis_001['Tensao Total'] - DF_Niveis_001['Presao Neutra']\n",
    "DF_Niveis_001"
   ]
  },
  {
   "cell_type": "markdown",
   "metadata": {},
   "source": [
    "## Grafico"
   ]
  },
  {
   "cell_type": "code",
   "execution_count": 8,
   "metadata": {},
   "outputs": [
    {
     "data": {
      "image/png": "[encoded data removed]",
      "text/plain": [
       "<Figure size 864x504 with 1 Axes>"
      ]
     },
     "metadata": {
      "needs_background": "light"
     },
     "output_type": "display_data"
    }
   ],
   "source": [
    "fig, graph = plt.subplots(nrows=1, ncols=1, figsize = (12,7))\n",
    "\n",
    "graph.plot(DF_Niveis_001['Tensao Total'] * 10, DF_Niveis_001['Profundidade'] * -1, label='Tensao Total', color='black', marker='o', markersize=7)\n",
    "graph.plot(DF_Niveis_001['Presao Neutra'] * 10, DF_Niveis_001['Profundidade'] * -1, label='Presao Neutra', color='blue', marker='s', markersize=7)\n",
    "graph.plot(DF_Niveis_001['Tensao Efetiva'] * 10, DF_Niveis_001['Profundidade'] * -1, label='Tensao Efetiva', color='red', marker='o', markersize=7)\n",
    "\n",
    "fig.suptitle('Grafico de Tensões de Solo')\n",
    "\n",
    "graph.set_xlabel('Tensões em (kPa)')\n",
    "graph.set_ylabel('Profundidades (m)')\n",
    "\n",
    "graph.legend()\n",
    "\n",
    "plt.tight_layout()"
   ]
  }
 ],
 "metadata": {
  "kernelspec": {
   "display_name": "Python 3",
   "language": "python",
   "name": "python3"
  },
  "language_info": {
   "codemirror_mode": {
    "name": "ipython",
    "version": 3
   },
   "file_extension": ".py",
   "mimetype": "text/x-python",
   "name": "python",
   "nbconvert_exporter": "python",
   "pygments_lexer": "ipython3",
   "version": "3.7.4"
  }
 },
 "nbformat": 4,
 "nbformat_minor": 4
}
