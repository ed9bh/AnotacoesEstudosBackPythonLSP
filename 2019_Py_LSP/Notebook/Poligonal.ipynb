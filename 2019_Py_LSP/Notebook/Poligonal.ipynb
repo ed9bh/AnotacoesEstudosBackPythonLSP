{
 "cells": [
  {
   "cell_type": "markdown",
   "metadata": {},
   "source": [
    "# Programa básico para análisar Poligonal de uma determinada Área"
   ]
  },
  {
   "cell_type": "code",
   "execution_count": 1,
   "metadata": {},
   "outputs": [],
   "source": [
    "%pwd\n",
    "\n",
    "from os import chdir\n",
    "import pandas as pd\n",
    "import numpy as np\n",
    "from matplotlib import pyplot as plt\n",
    "\n",
    "plt.style.use('fivethirtyeight')"
   ]
  },
  {
   "cell_type": "markdown",
   "metadata": {},
   "source": [
    "try:\n",
    "    chdir(globals()['_dh'][-1] + '\\\\2019_Py_LSP\\\\Notebook')\n",
    "except Exception as error:\n",
    "    print(error)\n",
    "    quit()"
   ]
  },
  {
   "cell_type": "markdown",
   "metadata": {},
   "source": [
    "### Abre arquivo de Pontos e Lista os 5 ultimos pontos"
   ]
  },
  {
   "cell_type": "code",
   "execution_count": 2,
   "metadata": {},
   "outputs": [
    {
     "data": {
      "text/html": [
       "<div>\n",
       "<style scoped>\n",
       "    .dataframe tbody tr th:only-of-type {\n",
       "        vertical-align: middle;\n",
       "    }\n",
       "\n",
       "    .dataframe tbody tr th {\n",
       "        vertical-align: top;\n",
       "    }\n",
       "\n",
       "    .dataframe thead th {\n",
       "        text-align: right;\n",
       "    }\n",
       "</style>\n",
       "<table border=\"1\" class=\"dataframe\">\n",
       "  <thead>\n",
       "    <tr style=\"text-align: right;\">\n",
       "      <th></th>\n",
       "      <th>Norte</th>\n",
       "      <th>Este</th>\n",
       "      <th>Elevacao</th>\n",
       "    </tr>\n",
       "    <tr>\n",
       "      <th>REG</th>\n",
       "      <th></th>\n",
       "      <th></th>\n",
       "      <th></th>\n",
       "    </tr>\n",
       "  </thead>\n",
       "  <tbody>\n",
       "    <tr>\n",
       "      <td>178</td>\n",
       "      <td>7.825215e+06</td>\n",
       "      <td>685737.981350</td>\n",
       "      <td>789.0</td>\n",
       "    </tr>\n",
       "    <tr>\n",
       "      <td>179</td>\n",
       "      <td>7.825216e+06</td>\n",
       "      <td>685732.038884</td>\n",
       "      <td>788.0</td>\n",
       "    </tr>\n",
       "    <tr>\n",
       "      <td>180</td>\n",
       "      <td>7.825216e+06</td>\n",
       "      <td>685726.096418</td>\n",
       "      <td>787.0</td>\n",
       "    </tr>\n",
       "    <tr>\n",
       "      <td>181</td>\n",
       "      <td>7.825217e+06</td>\n",
       "      <td>685720.153952</td>\n",
       "      <td>786.0</td>\n",
       "    </tr>\n",
       "    <tr>\n",
       "      <td>182</td>\n",
       "      <td>7.825217e+06</td>\n",
       "      <td>685714.211486</td>\n",
       "      <td>785.0</td>\n",
       "    </tr>\n",
       "  </tbody>\n",
       "</table>\n",
       "</div>"
      ],
      "text/plain": [
       "            Norte           Este  Elevacao\n",
       "REG                                       \n",
       "178  7.825215e+06  685737.981350     789.0\n",
       "179  7.825216e+06  685732.038884     788.0\n",
       "180  7.825216e+06  685726.096418     787.0\n",
       "181  7.825217e+06  685720.153952     786.0\n",
       "182  7.825217e+06  685714.211486     785.0"
      ]
     },
     "execution_count": 2,
     "metadata": {},
     "output_type": "execute_result"
    }
   ],
   "source": [
    "eixo = pd.read_csv('Poligonal.csv', header=0, index_col=0)\n",
    "eixo.tail()"
   ]
  },
  {
   "cell_type": "markdown",
   "metadata": {},
   "source": [
    "### Calcula a Distancia entre todos os pontos na lista"
   ]
  },
  {
   "cell_type": "code",
   "execution_count": 3,
   "metadata": {},
   "outputs": [
    {
     "data": {
      "text/html": [
       "<div>\n",
       "<style scoped>\n",
       "    .dataframe tbody tr th:only-of-type {\n",
       "        vertical-align: middle;\n",
       "    }\n",
       "\n",
       "    .dataframe tbody tr th {\n",
       "        vertical-align: top;\n",
       "    }\n",
       "\n",
       "    .dataframe thead th {\n",
       "        text-align: right;\n",
       "    }\n",
       "</style>\n",
       "<table border=\"1\" class=\"dataframe\">\n",
       "  <thead>\n",
       "    <tr style=\"text-align: right;\">\n",
       "      <th></th>\n",
       "      <th>Norte</th>\n",
       "      <th>Este</th>\n",
       "      <th>Elevacao</th>\n",
       "      <th>Distancia (m)</th>\n",
       "    </tr>\n",
       "    <tr>\n",
       "      <th>REG</th>\n",
       "      <th></th>\n",
       "      <th></th>\n",
       "      <th></th>\n",
       "      <th></th>\n",
       "    </tr>\n",
       "  </thead>\n",
       "  <tbody>\n",
       "    <tr>\n",
       "      <td>1</td>\n",
       "      <td>7.825217e+06</td>\n",
       "      <td>685714.211486</td>\n",
       "      <td>785.0</td>\n",
       "      <td>0.000000</td>\n",
       "    </tr>\n",
       "    <tr>\n",
       "      <td>2</td>\n",
       "      <td>7.825217e+06</td>\n",
       "      <td>685708.269019</td>\n",
       "      <td>784.0</td>\n",
       "      <td>5.957345</td>\n",
       "    </tr>\n",
       "    <tr>\n",
       "      <td>3</td>\n",
       "      <td>7.825218e+06</td>\n",
       "      <td>685702.664038</td>\n",
       "      <td>783.0</td>\n",
       "      <td>5.671017</td>\n",
       "    </tr>\n",
       "    <tr>\n",
       "      <td>4</td>\n",
       "      <td>7.825220e+06</td>\n",
       "      <td>685697.582504</td>\n",
       "      <td>782.0</td>\n",
       "      <td>5.312288</td>\n",
       "    </tr>\n",
       "    <tr>\n",
       "      <td>5</td>\n",
       "      <td>7.825223e+06</td>\n",
       "      <td>685691.698235</td>\n",
       "      <td>781.0</td>\n",
       "      <td>6.598723</td>\n",
       "    </tr>\n",
       "  </tbody>\n",
       "</table>\n",
       "</div>"
      ],
      "text/plain": [
       "            Norte           Este  Elevacao  Distancia (m)\n",
       "REG                                                      \n",
       "1    7.825217e+06  685714.211486     785.0       0.000000\n",
       "2    7.825217e+06  685708.269019     784.0       5.957345\n",
       "3    7.825218e+06  685702.664038     783.0       5.671017\n",
       "4    7.825220e+06  685697.582504     782.0       5.312288\n",
       "5    7.825223e+06  685691.698235     781.0       6.598723"
      ]
     },
     "execution_count": 3,
     "metadata": {},
     "output_type": "execute_result"
    }
   ],
   "source": [
    "eixo['Distancia (m)'] = (((eixo['Norte'].shift(1) - eixo['Norte'])**2) + ((eixo['Este'].shift(1) - eixo['Este'])**2)) ** 0.5\n",
    "eixo = eixo.fillna(0)\n",
    "eixo.head()"
   ]
  },
  {
   "cell_type": "markdown",
   "metadata": {},
   "source": [
    "### Lista as distancias de forma progressiva"
   ]
  },
  {
   "cell_type": "code",
   "execution_count": 4,
   "metadata": {},
   "outputs": [
    {
     "data": {
      "text/html": [
       "<div>\n",
       "<style scoped>\n",
       "    .dataframe tbody tr th:only-of-type {\n",
       "        vertical-align: middle;\n",
       "    }\n",
       "\n",
       "    .dataframe tbody tr th {\n",
       "        vertical-align: top;\n",
       "    }\n",
       "\n",
       "    .dataframe thead th {\n",
       "        text-align: right;\n",
       "    }\n",
       "</style>\n",
       "<table border=\"1\" class=\"dataframe\">\n",
       "  <thead>\n",
       "    <tr style=\"text-align: right;\">\n",
       "      <th></th>\n",
       "      <th>Norte</th>\n",
       "      <th>Este</th>\n",
       "      <th>Elevacao</th>\n",
       "      <th>Distancia (m)</th>\n",
       "      <th>Progressiva (m)</th>\n",
       "    </tr>\n",
       "    <tr>\n",
       "      <th>REG</th>\n",
       "      <th></th>\n",
       "      <th></th>\n",
       "      <th></th>\n",
       "      <th></th>\n",
       "      <th></th>\n",
       "    </tr>\n",
       "  </thead>\n",
       "  <tbody>\n",
       "    <tr>\n",
       "      <td>1</td>\n",
       "      <td>7.825217e+06</td>\n",
       "      <td>685714.211486</td>\n",
       "      <td>785.0</td>\n",
       "      <td>0.000000</td>\n",
       "      <td>0.000000</td>\n",
       "    </tr>\n",
       "    <tr>\n",
       "      <td>2</td>\n",
       "      <td>7.825217e+06</td>\n",
       "      <td>685708.269019</td>\n",
       "      <td>784.0</td>\n",
       "      <td>5.957345</td>\n",
       "      <td>5.957345</td>\n",
       "    </tr>\n",
       "    <tr>\n",
       "      <td>3</td>\n",
       "      <td>7.825218e+06</td>\n",
       "      <td>685702.664038</td>\n",
       "      <td>783.0</td>\n",
       "      <td>5.671017</td>\n",
       "      <td>11.628362</td>\n",
       "    </tr>\n",
       "    <tr>\n",
       "      <td>4</td>\n",
       "      <td>7.825220e+06</td>\n",
       "      <td>685697.582504</td>\n",
       "      <td>782.0</td>\n",
       "      <td>5.312288</td>\n",
       "      <td>16.940650</td>\n",
       "    </tr>\n",
       "    <tr>\n",
       "      <td>5</td>\n",
       "      <td>7.825223e+06</td>\n",
       "      <td>685691.698235</td>\n",
       "      <td>781.0</td>\n",
       "      <td>6.598723</td>\n",
       "      <td>23.539373</td>\n",
       "    </tr>\n",
       "  </tbody>\n",
       "</table>\n",
       "</div>"
      ],
      "text/plain": [
       "            Norte           Este  Elevacao  Distancia (m)  Progressiva (m)\n",
       "REG                                                                       \n",
       "1    7.825217e+06  685714.211486     785.0       0.000000         0.000000\n",
       "2    7.825217e+06  685708.269019     784.0       5.957345         5.957345\n",
       "3    7.825218e+06  685702.664038     783.0       5.671017        11.628362\n",
       "4    7.825220e+06  685697.582504     782.0       5.312288        16.940650\n",
       "5    7.825223e+06  685691.698235     781.0       6.598723        23.539373"
      ]
     },
     "execution_count": 4,
     "metadata": {},
     "output_type": "execute_result"
    }
   ],
   "source": [
    "dist_prog = []\n",
    "ini_d = 0\n",
    "for d in eixo['Distancia (m)']:\n",
    "    ini_d += d\n",
    "    dist_prog.append(ini_d)\n",
    "\n",
    "eixo['Progressiva (m)'] = dist_prog\n",
    "\n",
    "eixo.head()"
   ]
  },
  {
   "cell_type": "markdown",
   "metadata": {},
   "source": [
    "### Calcula a inclinação entre pontos"
   ]
  },
  {
   "cell_type": "code",
   "execution_count": 5,
   "metadata": {},
   "outputs": [
    {
     "data": {
      "text/html": [
       "<div>\n",
       "<style scoped>\n",
       "    .dataframe tbody tr th:only-of-type {\n",
       "        vertical-align: middle;\n",
       "    }\n",
       "\n",
       "    .dataframe tbody tr th {\n",
       "        vertical-align: top;\n",
       "    }\n",
       "\n",
       "    .dataframe thead th {\n",
       "        text-align: right;\n",
       "    }\n",
       "</style>\n",
       "<table border=\"1\" class=\"dataframe\">\n",
       "  <thead>\n",
       "    <tr style=\"text-align: right;\">\n",
       "      <th></th>\n",
       "      <th>Norte</th>\n",
       "      <th>Este</th>\n",
       "      <th>Elevacao</th>\n",
       "      <th>Distancia (m)</th>\n",
       "      <th>Progressiva (m)</th>\n",
       "      <th>Inclinacao (%)</th>\n",
       "    </tr>\n",
       "    <tr>\n",
       "      <th>REG</th>\n",
       "      <th></th>\n",
       "      <th></th>\n",
       "      <th></th>\n",
       "      <th></th>\n",
       "      <th></th>\n",
       "      <th></th>\n",
       "    </tr>\n",
       "  </thead>\n",
       "  <tbody>\n",
       "    <tr>\n",
       "      <td>178</td>\n",
       "      <td>7.825215e+06</td>\n",
       "      <td>685737.981350</td>\n",
       "      <td>789.0</td>\n",
       "      <td>5.661830</td>\n",
       "      <td>1450.097792</td>\n",
       "      <td>-17.662134</td>\n",
       "    </tr>\n",
       "    <tr>\n",
       "      <td>179</td>\n",
       "      <td>7.825216e+06</td>\n",
       "      <td>685732.038884</td>\n",
       "      <td>788.0</td>\n",
       "      <td>5.957345</td>\n",
       "      <td>1456.055136</td>\n",
       "      <td>-16.786002</td>\n",
       "    </tr>\n",
       "    <tr>\n",
       "      <td>180</td>\n",
       "      <td>7.825216e+06</td>\n",
       "      <td>685726.096418</td>\n",
       "      <td>787.0</td>\n",
       "      <td>5.957344</td>\n",
       "      <td>1462.012480</td>\n",
       "      <td>-16.786003</td>\n",
       "    </tr>\n",
       "    <tr>\n",
       "      <td>181</td>\n",
       "      <td>7.825217e+06</td>\n",
       "      <td>685720.153952</td>\n",
       "      <td>786.0</td>\n",
       "      <td>5.957344</td>\n",
       "      <td>1467.969825</td>\n",
       "      <td>-16.786003</td>\n",
       "    </tr>\n",
       "    <tr>\n",
       "      <td>182</td>\n",
       "      <td>7.825217e+06</td>\n",
       "      <td>685714.211486</td>\n",
       "      <td>785.0</td>\n",
       "      <td>5.957345</td>\n",
       "      <td>1473.927169</td>\n",
       "      <td>-16.786002</td>\n",
       "    </tr>\n",
       "  </tbody>\n",
       "</table>\n",
       "</div>"
      ],
      "text/plain": [
       "            Norte           Este  Elevacao  Distancia (m)  Progressiva (m)  \\\n",
       "REG                                                                          \n",
       "178  7.825215e+06  685737.981350     789.0       5.661830      1450.097792   \n",
       "179  7.825216e+06  685732.038884     788.0       5.957345      1456.055136   \n",
       "180  7.825216e+06  685726.096418     787.0       5.957344      1462.012480   \n",
       "181  7.825217e+06  685720.153952     786.0       5.957344      1467.969825   \n",
       "182  7.825217e+06  685714.211486     785.0       5.957345      1473.927169   \n",
       "\n",
       "     Inclinacao (%)  \n",
       "REG                  \n",
       "178      -17.662134  \n",
       "179      -16.786002  \n",
       "180      -16.786003  \n",
       "181      -16.786003  \n",
       "182      -16.786002  "
      ]
     },
     "execution_count": 5,
     "metadata": {},
     "output_type": "execute_result"
    }
   ],
   "source": [
    "eixo['Inclinacao (%)'] = ((eixo['Elevacao'] - eixo['Elevacao'].shift(1)) / eixo['Distancia (m)']) * 100\n",
    "eixo = eixo.fillna(0)\n",
    "eixo.tail()"
   ]
  },
  {
   "cell_type": "markdown",
   "metadata": {},
   "source": [
    "### Imprime um Gráfico com Planta e Perfil dos Pontos"
   ]
  },
  {
   "cell_type": "code",
   "execution_count": 6,
   "metadata": {},
   "outputs": [
    {
     "data": {
      "image/png": "[encoded data removed]",
      "text/plain": [
       "<Figure size 1296x432 with 2 Axes>"
      ]
     },
     "metadata": {
      "needs_background": "light"
     },
     "output_type": "display_data"
    }
   ],
   "source": [
    "fig, (Planta, Perfil) = plt.subplots(ncols=2, nrows=1, figsize=(18,6), sharex=False, sharey=False)\n",
    "Planta.plot(eixo['Este'], eixo['Norte'])\n",
    "Perfil.plot(eixo['Progressiva (m)'], eixo['Elevacao'], color='r')\n",
    "\n",
    "\n",
    "Planta.set_xlabel('Este')\n",
    "Planta.set_ylabel('Norte')\n",
    "\n",
    "Perfil.set_xlabel('Distância')\n",
    "Perfil.set_ylabel('Elevação')\n",
    "\n",
    "Planta.set_title('Planta')\n",
    "Perfil.set_title('Perfil')\n",
    "\n",
    "fig.tight_layout()\n",
    "\n",
    "plt.show()"
   ]
  },
  {
   "cell_type": "markdown",
   "metadata": {},
   "source": [
    "### Encontra as Elevações de destaque da poligonal"
   ]
  },
  {
   "cell_type": "code",
   "execution_count": 7,
   "metadata": {},
   "outputs": [
    {
     "name": "stdout",
     "output_type": "stream",
     "text": [
      "Elevação Máxima : 830.000, Elevação Mínima : 749.000 / Diferença = 81.000m\n"
     ]
    }
   ],
   "source": [
    "Elev_Max = eixo['Elevacao'].max()\n",
    "Elev_Min = eixo['Elevacao'].min()\n",
    "print(f'Elevação Máxima : {Elev_Max:0.3f}, Elevação Mínima : {Elev_Min:0.3f} / Diferença = {Elev_Max - Elev_Min:0.3f}m')"
   ]
  },
  {
   "cell_type": "markdown",
   "metadata": {},
   "source": [
    "### Encontra as inclinações de maior destaque da poligonal"
   ]
  },
  {
   "cell_type": "code",
   "execution_count": 8,
   "metadata": {},
   "outputs": [
    {
     "name": "stdout",
     "output_type": "stream",
     "text": [
      "Inclinação Máxima / (Absoluto) : 40.738% / (46.965%), Inclinação Mínima / (Absoluto) : -46.965% / (0.000%), Inclinação Média : 14.602%\n"
     ]
    }
   ],
   "source": [
    "Inc_Max = eixo['Inclinacao (%)'].max()\n",
    "Inc_Min = eixo['Inclinacao (%)'].min()\n",
    "Inc_ABS_Max = np.abs(eixo['Inclinacao (%)']).max()\n",
    "Inc_ABS_Min = np.abs(eixo['Inclinacao (%)']).min()\n",
    "Inc_Mean = np.abs(eixo['Inclinacao (%)']).mean()\n",
    "print(f'Inclinação Máxima / (Absoluto) : {Inc_Max:0.3f}% / ({Inc_ABS_Max:0.3f}%), Inclinação Mínima / (Absoluto) : {Inc_Min:0.3f}% / ({Inc_ABS_Min:0.3f}%), Inclinação Média : {Inc_Mean:0.3f}%')"
   ]
  },
  {
   "cell_type": "markdown",
   "metadata": {},
   "source": [
    "### Calcula a Área do Poligono"
   ]
  },
  {
   "cell_type": "code",
   "execution_count": 9,
   "metadata": {},
   "outputs": [
    {
     "name": "stdout",
     "output_type": "stream",
     "text": [
      "Área da Poligonal : 54524.596m²\n"
     ]
    }
   ],
   "source": [
    "x_ = np.array(eixo['Este'] - eixo['Este'].mean())\n",
    "y_ = np.array(eixo['Norte'] - eixo['Norte'].mean())\n",
    "\n",
    "correction = x_[-1] * y_[0] - y_[-1] * x_[0]\n",
    "main_area = np.dot(x_[:-1], y_[1:]) - np.dot(y_[:-1], x_[1:])\n",
    "Area_Poligonal = 0.5 * np.abs(main_area + correction)\n",
    "\n",
    "print(f'Área da Poligonal : {Area_Poligonal:0.3f}m²')"
   ]
  },
  {
   "cell_type": "code",
   "execution_count": 11,
   "metadata": {},
   "outputs": [],
   "source": [
    "eixo.to_excel('Arquivo_Análisado.xlsx')"
   ]
  }
 ],
 "metadata": {
  "kernelspec": {
   "display_name": "Python 3",
   "language": "python",
   "name": "python3"
  },
  "language_info": {
   "codemirror_mode": {
    "name": "ipython",
    "version": 3
   },
   "file_extension": ".py",
   "mimetype": "text/x-python",
   "name": "python",
   "nbconvert_exporter": "python",
   "pygments_lexer": "ipython3",
   "version": "3.7.4"
  }
 },
 "nbformat": 4,
 "nbformat_minor": 4
}
