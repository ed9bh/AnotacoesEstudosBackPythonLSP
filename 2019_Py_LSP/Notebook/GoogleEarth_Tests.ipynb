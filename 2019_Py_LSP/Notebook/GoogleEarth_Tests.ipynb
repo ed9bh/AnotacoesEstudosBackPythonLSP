{
 "cells": [
  {
   "cell_type": "markdown",
   "metadata": {},
   "source": [
    "##### https://www.earthdatascience.org/tutorials/intro-google-earth-engine-python-api/\n",
    "##### https://pypi.org/project/earthengine-api/\n",
    "%earthengine authenticate"
   ]
  },
  {
   "cell_type": "code",
   "execution_count": 1,
   "metadata": {},
   "outputs": [],
   "source": [
    "import ee\n",
    "from ee import Image\n",
    "from oauth2client import crypt"
   ]
  },
  {
   "cell_type": "code",
   "execution_count": 2,
   "metadata": {},
   "outputs": [],
   "source": [
    "try:\n",
    "    ee.Initialize()\n",
    "    pass\n",
    "except Exception as error:\n",
    "    print(error)"
   ]
  },
  {
   "cell_type": "code",
   "execution_count": null,
   "metadata": {},
   "outputs": [],
   "source": [
    "img = ee.Image('LANDSAT/LT05/C01/T1_SR/LT05_034033_20000913')\n",
    "Image(url=img.getThumbUrl({\n",
    "    'bands' : ['B5', 'B4', 'B2'],\n",
    "    'min' : 100,\n",
    "    'max' : 3500,\n",
    "    'region':[\n",
    "        [\n",
    "            [-107.36, 38.68],\n",
    "            [-107.36, 38.32],\n",
    "            [-106.22, 38.32],\n",
    "            [-106.22, 38.68]\n",
    "        ]\n",
    "    ]\n",
    "}))"
   ]
  }
 ],
 "metadata": {
  "kernelspec": {
   "display_name": "Python 3",
   "language": "python",
   "name": "python3"
  },
  "language_info": {
   "codemirror_mode": {
    "name": "ipython",
    "version": 3
   },
   "file_extension": ".py",
   "mimetype": "text/x-python",
   "name": "python",
   "nbconvert_exporter": "python",
   "pygments_lexer": "ipython3",
   "version": "3.7.4"
  }
 },
 "nbformat": 4,
 "nbformat_minor": 4
}
