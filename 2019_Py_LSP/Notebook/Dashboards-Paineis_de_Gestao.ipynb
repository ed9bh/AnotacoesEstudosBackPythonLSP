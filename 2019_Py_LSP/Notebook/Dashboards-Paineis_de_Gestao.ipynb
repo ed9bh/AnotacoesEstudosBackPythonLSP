{
 "cells": [
  {
   "cell_type": "markdown",
   "metadata": {},
   "source": [
    "### Dashboards (Painéis de Gestão) Com Jupyter Lab\n",
    "##### Baseado em [Dashboards (Painéis de Gestão) com Excel - 28/09/2019 - Prisma Engenharia Pro - Fupac Ubá]\n",
    "\n",
    "---\n",
    "\n",
    "[Vídeo Base](https://www.youtube.com/watch?v=vJndKb6uecw)\n",
    "\n",
    "[Canal Youtube](https://www.youtube.com/channel/UCEGskateNZ5XVIrarEnZyWw)"
   ]
  },
  {
   "cell_type": "code",
   "execution_count": 1,
   "metadata": {},
   "outputs": [],
   "source": [
    "import pandas as pd\n",
    "from matplotlib import pyplot as pl"
   ]
  },
  {
   "cell_type": "code",
   "execution_count": 2,
   "metadata": {},
   "outputs": [
    {
     "data": {
      "text/html": [
       "<div>\n",
       "<style scoped>\n",
       "    .dataframe tbody tr th:only-of-type {\n",
       "        vertical-align: middle;\n",
       "    }\n",
       "\n",
       "    .dataframe tbody tr th {\n",
       "        vertical-align: top;\n",
       "    }\n",
       "\n",
       "    .dataframe thead th {\n",
       "        text-align: right;\n",
       "    }\n",
       "</style>\n",
       "<table border=\"1\" class=\"dataframe\">\n",
       "  <thead>\n",
       "    <tr style=\"text-align: right;\">\n",
       "      <th></th>\n",
       "      <th>DATA VENDA</th>\n",
       "      <th>PRODUTO</th>\n",
       "      <th>VALOR</th>\n",
       "      <th>ESTADO</th>\n",
       "      <th>REGIÃO</th>\n",
       "    </tr>\n",
       "  </thead>\n",
       "  <tbody>\n",
       "    <tr>\n",
       "      <th>13909</th>\n",
       "      <td>2019-12-31</td>\n",
       "      <td>Fox</td>\n",
       "      <td>R$ 54750.00</td>\n",
       "      <td>Rio de Janeiro</td>\n",
       "      <td>Sudeste</td>\n",
       "    </tr>\n",
       "    <tr>\n",
       "      <th>13910</th>\n",
       "      <td>2019-12-31</td>\n",
       "      <td>Saveiro</td>\n",
       "      <td>R$ 47490.00</td>\n",
       "      <td>Espírito Santo</td>\n",
       "      <td>Sudeste</td>\n",
       "    </tr>\n",
       "    <tr>\n",
       "      <th>13911</th>\n",
       "      <td>2019-12-31</td>\n",
       "      <td>Up!</td>\n",
       "      <td>R$ 37990.00</td>\n",
       "      <td>Minas Gerais</td>\n",
       "      <td>Sudeste</td>\n",
       "    </tr>\n",
       "    <tr>\n",
       "      <th>13912</th>\n",
       "      <td>2019-12-31</td>\n",
       "      <td>Voyage</td>\n",
       "      <td>R$ 49990.00</td>\n",
       "      <td>Espírito Santo</td>\n",
       "      <td>Sudeste</td>\n",
       "    </tr>\n",
       "    <tr>\n",
       "      <th>13913</th>\n",
       "      <td>2019-12-31</td>\n",
       "      <td>Up!</td>\n",
       "      <td>R$ 37990.00</td>\n",
       "      <td>Minas Gerais</td>\n",
       "      <td>Sudeste</td>\n",
       "    </tr>\n",
       "  </tbody>\n",
       "</table>\n",
       "</div>"
      ],
      "text/plain": [
       "       DATA VENDA  PRODUTO          VALOR          ESTADO   REGIÃO\n",
       "13909  2019-12-31      Fox   R$ 54750.00   Rio de Janeiro  Sudeste\n",
       "13910  2019-12-31  Saveiro   R$ 47490.00   Espírito Santo  Sudeste\n",
       "13911  2019-12-31      Up!   R$ 37990.00     Minas Gerais  Sudeste\n",
       "13912  2019-12-31   Voyage   R$ 49990.00   Espírito Santo  Sudeste\n",
       "13913  2019-12-31      Up!   R$ 37990.00     Minas Gerais  Sudeste"
      ]
     },
     "execution_count": 2,
     "metadata": {},
     "output_type": "execute_result"
    }
   ],
   "source": [
    "table = pd.read_csv('Dashboards-Paineis_de_Gestao.csv')\n",
    "table.tail()"
   ]
  },
  {
   "cell_type": "code",
   "execution_count": null,
   "metadata": {},
   "outputs": [],
   "source": []
  }
 ],
 "metadata": {
  "kernelspec": {
   "display_name": "Python 3",
   "language": "python",
   "name": "python3"
  },
  "language_info": {
   "codemirror_mode": {
    "name": "ipython",
    "version": 3
   },
   "file_extension": ".py",
   "mimetype": "text/x-python",
   "name": "python",
   "nbconvert_exporter": "python",
   "pygments_lexer": "ipython3",
   "version": "3.7.4"
  }
 },
 "nbformat": 4,
 "nbformat_minor": 4
}
