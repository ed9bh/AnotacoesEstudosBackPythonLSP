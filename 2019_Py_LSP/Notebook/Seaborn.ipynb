{
 "cells": [
  {
   "cell_type": "code",
   "execution_count": 20,
   "metadata": {},
   "outputs": [],
   "source": [
    "import seaborn as sns\n",
    "import pandas as pd\n",
    "from pandas_datareader import DataReader as web\n",
    "import numpy as np\n",
    "\n",
    "from pandas.plotting import register_matplotlib_converters\n",
    "register_matplotlib_converters()"
   ]
  },
  {
   "cell_type": "code",
   "execution_count": 13,
   "metadata": {},
   "outputs": [
    {
     "data": {
      "text/html": [
       "<div>\n",
       "<style scoped>\n",
       "    .dataframe tbody tr th:only-of-type {\n",
       "        vertical-align: middle;\n",
       "    }\n",
       "\n",
       "    .dataframe tbody tr th {\n",
       "        vertical-align: top;\n",
       "    }\n",
       "\n",
       "    .dataframe thead th {\n",
       "        text-align: right;\n",
       "    }\n",
       "</style>\n",
       "<table border=\"1\" class=\"dataframe\">\n",
       "  <thead>\n",
       "    <tr style=\"text-align: right;\">\n",
       "      <th></th>\n",
       "      <th>B3SA3.SA</th>\n",
       "      <th>MGLU3.SA</th>\n",
       "    </tr>\n",
       "    <tr>\n",
       "      <th>Date</th>\n",
       "      <th></th>\n",
       "      <th></th>\n",
       "    </tr>\n",
       "  </thead>\n",
       "  <tbody>\n",
       "    <tr>\n",
       "      <th>2020-01-06</th>\n",
       "      <td>43.389999</td>\n",
       "      <td>48.930000</td>\n",
       "    </tr>\n",
       "    <tr>\n",
       "      <th>2020-01-07</th>\n",
       "      <td>44.790001</td>\n",
       "      <td>48.790001</td>\n",
       "    </tr>\n",
       "    <tr>\n",
       "      <th>2020-01-08</th>\n",
       "      <td>44.669998</td>\n",
       "      <td>50.290001</td>\n",
       "    </tr>\n",
       "    <tr>\n",
       "      <th>2020-01-09</th>\n",
       "      <td>44.650002</td>\n",
       "      <td>52.080002</td>\n",
       "    </tr>\n",
       "    <tr>\n",
       "      <th>2020-01-10</th>\n",
       "      <td>44.560001</td>\n",
       "      <td>52.590000</td>\n",
       "    </tr>\n",
       "  </tbody>\n",
       "</table>\n",
       "</div>"
      ],
      "text/plain": [
       "             B3SA3.SA   MGLU3.SA\n",
       "Date                            \n",
       "2020-01-06  43.389999  48.930000\n",
       "2020-01-07  44.790001  48.790001\n",
       "2020-01-08  44.669998  50.290001\n",
       "2020-01-09  44.650002  52.080002\n",
       "2020-01-10  44.560001  52.590000"
      ]
     },
     "execution_count": 13,
     "metadata": {},
     "output_type": "execute_result"
    }
   ],
   "source": [
    "tickers = ['B3SA3.SA', 'MGLU3.SA']\n",
    "df = pd.DataFrame()\n",
    "\n",
    "for t in tickers:\n",
    "    df[t] = web(t, data_source='yahoo', start='2019-01-01')['Adj Close']\n",
    "    pass\n",
    "df.tail()"
   ]
  },
  {
   "cell_type": "code",
   "execution_count": 5,
   "metadata": {},
   "outputs": [
    {
     "data": {
      "text/plain": [
       "['FacetGrid',\n",
       " 'JointGrid',\n",
       " 'PairGrid',\n",
       " '__builtins__',\n",
       " '__cached__',\n",
       " '__doc__',\n",
       " '__file__',\n",
       " '__loader__',\n",
       " '__name__',\n",
       " '__package__',\n",
       " '__path__',\n",
       " '__spec__',\n",
       " '__version__',\n",
       " '_orig_rc_params',\n",
       " 'algorithms',\n",
       " 'axes_style',\n",
       " 'axisgrid',\n",
       " 'barplot',\n",
       " 'blend_palette',\n",
       " 'boxenplot',\n",
       " 'boxplot',\n",
       " 'categorical',\n",
       " 'catplot',\n",
       " 'choose_colorbrewer_palette',\n",
       " 'choose_cubehelix_palette',\n",
       " 'choose_dark_palette',\n",
       " 'choose_diverging_palette',\n",
       " 'choose_light_palette',\n",
       " 'clustermap',\n",
       " 'cm',\n",
       " 'color_palette',\n",
       " 'colors',\n",
       " 'countplot',\n",
       " 'crayon_palette',\n",
       " 'crayons',\n",
       " 'cubehelix_palette',\n",
       " 'dark_palette',\n",
       " 'desaturate',\n",
       " 'despine',\n",
       " 'distplot',\n",
       " 'distributions',\n",
       " 'diverging_palette',\n",
       " 'dogplot',\n",
       " 'external',\n",
       " 'factorplot',\n",
       " 'get_dataset_names',\n",
       " 'heatmap',\n",
       " 'hls_palette',\n",
       " 'husl_palette',\n",
       " 'jointplot',\n",
       " 'kdeplot',\n",
       " 'light_palette',\n",
       " 'lineplot',\n",
       " 'lmplot',\n",
       " 'load_dataset',\n",
       " 'lvplot',\n",
       " 'matrix',\n",
       " 'miscplot',\n",
       " 'mpl',\n",
       " 'mpl_palette',\n",
       " 'pairplot',\n",
       " 'palettes',\n",
       " 'palplot',\n",
       " 'plotting_context',\n",
       " 'pointplot',\n",
       " 'rcmod',\n",
       " 'regplot',\n",
       " 'regression',\n",
       " 'relational',\n",
       " 'relplot',\n",
       " 'reset_defaults',\n",
       " 'reset_orig',\n",
       " 'residplot',\n",
       " 'rugplot',\n",
       " 'saturate',\n",
       " 'scatterplot',\n",
       " 'set',\n",
       " 'set_color_codes',\n",
       " 'set_context',\n",
       " 'set_hls_values',\n",
       " 'set_palette',\n",
       " 'set_style',\n",
       " 'stripplot',\n",
       " 'swarmplot',\n",
       " 'timeseries',\n",
       " 'tsplot',\n",
       " 'utils',\n",
       " 'violinplot',\n",
       " 'widgets',\n",
       " 'xkcd_palette',\n",
       " 'xkcd_rgb']"
      ]
     },
     "execution_count": 5,
     "metadata": {},
     "output_type": "execute_result"
    }
   ],
   "source": [
    "dir(sns)"
   ]
  },
  {
   "cell_type": "code",
   "execution_count": 6,
   "metadata": {},
   "outputs": [
    {
     "name": "stdout",
     "output_type": "stream",
     "text": [
      "Help on package seaborn:\n",
      "\n",
      "NAME\n",
      "    seaborn - # Capture the original matplotlib rcParams\n",
      "\n",
      "PACKAGE CONTENTS\n",
      "    algorithms\n",
      "    apionly\n",
      "    axisgrid\n",
      "    categorical\n",
      "    cm\n",
      "    colors (package)\n",
      "    conftest\n",
      "    distributions\n",
      "    external (package)\n",
      "    linearmodels\n",
      "    matrix\n",
      "    miscplot\n",
      "    palettes\n",
      "    rcmod\n",
      "    regression\n",
      "    relational\n",
      "    tests (package)\n",
      "    timeseries\n",
      "    utils\n",
      "    widgets\n",
      "\n",
      "DATA\n",
      "    crayons = {'Almond': '#EFDECD', 'Antique Brass': '#CD9575', 'Apricot':...\n",
      "    xkcd_rgb = {'acid green': '#8ffe09', 'adobe': '#bd6c48', 'algae': '#54...\n",
      "\n",
      "VERSION\n",
      "    0.9.0\n",
      "\n",
      "FILE\n",
      "    a:\\_projetos\\.venv\\lib\\site-packages\\seaborn\\__init__.py\n",
      "\n",
      "\n"
     ]
    }
   ],
   "source": [
    "help(sns)"
   ]
  },
  {
   "cell_type": "code",
   "execution_count": 31,
   "metadata": {},
   "outputs": [
    {
     "data": {
      "text/plain": [
       "<matplotlib.axes._subplots.AxesSubplot at 0x129a18b0>"
      ]
     },
     "execution_count": 31,
     "metadata": {},
     "output_type": "execute_result"
    },
    {
     "data": {
      "image/png": "[encoded data removed]",
      "text/plain": [
       "<Figure size 432x288 with 1 Axes>"
      ]
     },
     "metadata": {},
     "output_type": "display_data"
    }
   ],
   "source": [
    "sns.set(style=\"darkgrid\")\n",
    "sns.lineplot(data=(df / df.iloc[0] * 100))"
   ]
  }
 ],
 "metadata": {
  "kernelspec": {
   "display_name": "Python 3",
   "language": "python",
   "name": "python3"
  },
  "language_info": {
   "codemirror_mode": {
    "name": "ipython",
    "version": 3
   },
   "file_extension": ".py",
   "mimetype": "text/x-python",
   "name": "python",
   "nbconvert_exporter": "python",
   "pygments_lexer": "ipython3",
   "version": "3.7.4"
  }
 },
 "nbformat": 4,
 "nbformat_minor": 4
}
